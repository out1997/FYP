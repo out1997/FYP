{
 "cells": [
  {
   "cell_type": "markdown",
   "id": "03d10844-838e-4971-8c8c-178d32e64141",
   "metadata": {},
   "source": [
    "### Import necessary libraries"
   ]
  },
  {
   "cell_type": "code",
   "execution_count": 1,
   "id": "ed566c2e-ca59-431d-ac84-f9421f86ca1f",
   "metadata": {},
   "outputs": [],
   "source": [
    "#!pip install numpy\n",
    "#!pip install pandas\n",
    "#!pip install nltk"
   ]
  },
  {
   "cell_type": "code",
   "execution_count": 55,
   "id": "2c2a2e7b-7fb8-43f1-b823-8c70f266d7b5",
   "metadata": {},
   "outputs": [],
   "source": [
    "import numpy as np\n",
    "import pandas as pd\n",
    "import nltk\n",
    "import re\n",
    "import ast\n",
    "import matplotlib.pyplot as plt\n",
    "\n",
    "from sklearn.model_selection import train_test_split\n",
    "from sklearn.feature_extraction.text import TfidfVectorizer\n",
    "\n",
    "from sklearn.naive_bayes import MultinomialNB\n",
    "\n",
    "from sklearn.metrics import accuracy_score, precision_score, recall_score, f1_score, roc_curve, confusion_matrix, ConfusionMatrixDisplay"
   ]
  },
  {
   "cell_type": "markdown",
   "id": "ca86bb8a-610e-49f3-bfbe-7076076dac56",
   "metadata": {},
   "source": [
    "# Data Preparation Stage"
   ]
  },
  {
   "cell_type": "markdown",
   "id": "45c9bd4f-c7a9-4626-9ddd-3a70de6ea821",
   "metadata": {},
   "source": [
    "### Data Exploration"
   ]
  },
  {
   "cell_type": "markdown",
   "id": "915e7f7c-caf3-4091-8c9e-6e94d72d709b",
   "metadata": {},
   "source": [
    "#### Read the data from dataset (news.csv)"
   ]
  },
  {
   "cell_type": "code",
   "execution_count": 3,
   "id": "7536e07e-d3ec-444c-9c1d-60c544a42d65",
   "metadata": {},
   "outputs": [],
   "source": [
    "#Code and news.csv source from https://data-flair.training/blogs/advanced-python-project-detecting-fake-news/\n",
    "\n",
    "#DataFlair - Read the data\n",
    "df=pd.read_csv('news.csv')\n",
    "#DataFlair - Get shape and head\n",
    "df.head()\n",
    "\n",
    "#If baseline dataset and clean data has been created, read them instead\n",
    "#Function to read local csv\n",
    "def read_csv(filepath):\n",
    "    df = pd.read_csv(filepath)\n",
    "    df['title'] = df['title']\n",
    "    df['text'] = df['text']\n",
    "    return df\n",
    "#baseline_df=read_csv('baseline_news.csv')    \n",
    "#clean_df=read_csv('clean_news.csv')"
   ]
  },
  {
   "cell_type": "code",
   "execution_count": 4,
   "id": "f3d84e46-cae5-48ab-aa9d-3183fcf75100",
   "metadata": {},
   "outputs": [
    {
     "data": {
      "text/plain": [
       "(6335, 4)"
      ]
     },
     "execution_count": 4,
     "metadata": {},
     "output_type": "execute_result"
    }
   ],
   "source": [
    "df.shape"
   ]
  },
  {
   "cell_type": "markdown",
   "id": "5c9c0de3-ca79-458e-9adf-ee7af3ced933",
   "metadata": {},
   "source": [
    "According to the dataset source the first coloumn is some sort of identifier for the news. It is irrelevant in our use case hence we will drop this column in the data cleaning part later."
   ]
  },
  {
   "cell_type": "code",
   "execution_count": 5,
   "id": "cd1a5828-723d-4720-bb2d-3a1b9b241596",
   "metadata": {},
   "outputs": [
    {
     "data": {
      "text/plain": [
       "0    FAKE\n",
       "1    FAKE\n",
       "2    REAL\n",
       "3    FAKE\n",
       "4    REAL\n",
       "Name: label, dtype: object"
      ]
     },
     "execution_count": 5,
     "metadata": {},
     "output_type": "execute_result"
    }
   ],
   "source": [
    "#DataFlair - Get the labels\n",
    "labels=df.label\n",
    "labels.head()"
   ]
  },
  {
   "cell_type": "code",
   "execution_count": 6,
   "id": "0230a670-6f76-4efb-b596-b9f44fe73747",
   "metadata": {},
   "outputs": [
    {
     "data": {
      "text/plain": [
       "label\n",
       "REAL    3171\n",
       "FAKE    3164\n",
       "Name: count, dtype: int64"
      ]
     },
     "execution_count": 6,
     "metadata": {},
     "output_type": "execute_result"
    }
   ],
   "source": [
    "#Show the number of Real News and Fake News in dataset\n",
    "labels.value_counts()"
   ]
  },
  {
   "cell_type": "markdown",
   "id": "64bd68c9-bf4d-40ee-a0d6-cab1b2a75991",
   "metadata": {},
   "source": [
    "There are a total number of 3171 rows of data labeled as REAL and 3164 rows of data labeled as FAKE"
   ]
  },
  {
   "cell_type": "code",
   "execution_count": 7,
   "id": "7b712a87-6938-470d-9d4f-b20924215b08",
   "metadata": {},
   "outputs": [
    {
     "data": {
      "text/plain": [
       "Unnamed: 0    0\n",
       "title         0\n",
       "text          0\n",
       "label         0\n",
       "dtype: int64"
      ]
     },
     "execution_count": 7,
     "metadata": {},
     "output_type": "execute_result"
    }
   ],
   "source": [
    "df.isna().sum()  "
   ]
  },
  {
   "cell_type": "markdown",
   "id": "c24ca550-85db-40cb-8a62-c0d4b9593560",
   "metadata": {},
   "source": [
    "Dataset seems to have no missing values and is generally clean except for the first column containing the news identifier which is irrelevant to our use case."
   ]
  },
  {
   "cell_type": "markdown",
   "id": "37677618-21da-47e1-9566-a70bb42ff3af",
   "metadata": {},
   "source": [
    "#### Data cleaning"
   ]
  },
  {
   "cell_type": "markdown",
   "id": "92b27f47-8e89-4528-9d40-1d77b7bdb223",
   "metadata": {},
   "source": [
    "As mentioned earlier, we will be dropping the first column."
   ]
  },
  {
   "cell_type": "code",
   "execution_count": 8,
   "id": "f259b22a-5316-4ea7-a7fe-08471da9f8a9",
   "metadata": {},
   "outputs": [
    {
     "data": {
      "text/html": [
       "<div>\n",
       "<style scoped>\n",
       "    .dataframe tbody tr th:only-of-type {\n",
       "        vertical-align: middle;\n",
       "    }\n",
       "\n",
       "    .dataframe tbody tr th {\n",
       "        vertical-align: top;\n",
       "    }\n",
       "\n",
       "    .dataframe thead th {\n",
       "        text-align: right;\n",
       "    }\n",
       "</style>\n",
       "<table border=\"1\" class=\"dataframe\">\n",
       "  <thead>\n",
       "    <tr style=\"text-align: right;\">\n",
       "      <th></th>\n",
       "      <th>title</th>\n",
       "      <th>text</th>\n",
       "      <th>label</th>\n",
       "    </tr>\n",
       "  </thead>\n",
       "  <tbody>\n",
       "    <tr>\n",
       "      <th>0</th>\n",
       "      <td>You Can Smell Hillary’s Fear</td>\n",
       "      <td>Daniel Greenfield, a Shillman Journalism Fello...</td>\n",
       "      <td>FAKE</td>\n",
       "    </tr>\n",
       "    <tr>\n",
       "      <th>1</th>\n",
       "      <td>Watch The Exact Moment Paul Ryan Committed Pol...</td>\n",
       "      <td>Google Pinterest Digg Linkedin Reddit Stumbleu...</td>\n",
       "      <td>FAKE</td>\n",
       "    </tr>\n",
       "    <tr>\n",
       "      <th>2</th>\n",
       "      <td>Kerry to go to Paris in gesture of sympathy</td>\n",
       "      <td>U.S. Secretary of State John F. Kerry said Mon...</td>\n",
       "      <td>REAL</td>\n",
       "    </tr>\n",
       "    <tr>\n",
       "      <th>3</th>\n",
       "      <td>Bernie supporters on Twitter erupt in anger ag...</td>\n",
       "      <td>— Kaydee King (@KaydeeKing) November 9, 2016 T...</td>\n",
       "      <td>FAKE</td>\n",
       "    </tr>\n",
       "    <tr>\n",
       "      <th>4</th>\n",
       "      <td>The Battle of New York: Why This Primary Matters</td>\n",
       "      <td>It's primary day in New York and front-runners...</td>\n",
       "      <td>REAL</td>\n",
       "    </tr>\n",
       "  </tbody>\n",
       "</table>\n",
       "</div>"
      ],
      "text/plain": [
       "                                               title  \\\n",
       "0                       You Can Smell Hillary’s Fear   \n",
       "1  Watch The Exact Moment Paul Ryan Committed Pol...   \n",
       "2        Kerry to go to Paris in gesture of sympathy   \n",
       "3  Bernie supporters on Twitter erupt in anger ag...   \n",
       "4   The Battle of New York: Why This Primary Matters   \n",
       "\n",
       "                                                text label  \n",
       "0  Daniel Greenfield, a Shillman Journalism Fello...  FAKE  \n",
       "1  Google Pinterest Digg Linkedin Reddit Stumbleu...  FAKE  \n",
       "2  U.S. Secretary of State John F. Kerry said Mon...  REAL  \n",
       "3  — Kaydee King (@KaydeeKing) November 9, 2016 T...  FAKE  \n",
       "4  It's primary day in New York and front-runners...  REAL  "
      ]
     },
     "execution_count": 8,
     "metadata": {},
     "output_type": "execute_result"
    }
   ],
   "source": [
    "df.drop(columns=df.columns[0], axis=1,  inplace=True)\n",
    "df.head()"
   ]
  },
  {
   "cell_type": "code",
   "execution_count": 9,
   "id": "c2aa7265-6cc4-4da0-a0b6-dffdf5065346",
   "metadata": {},
   "outputs": [
    {
     "data": {
      "text/plain": [
       "(6335, 3)"
      ]
     },
     "execution_count": 9,
     "metadata": {},
     "output_type": "execute_result"
    }
   ],
   "source": [
    "df.shape"
   ]
  },
  {
   "cell_type": "markdown",
   "id": "aebbe271-7157-440e-826c-ddab3add2b22",
   "metadata": {},
   "source": [
    "We check the shape and first 5 rows of the dataset to ensure we only drop the column."
   ]
  },
  {
   "cell_type": "markdown",
   "id": "e5d4afb5-410a-426d-92f1-cad3cef66a5f",
   "metadata": {},
   "source": [
    "Now that our baseline dataset is prepared and ready for the further processing, we will save a local copy so we don't have to run these cleaning process everytime."
   ]
  },
  {
   "cell_type": "code",
   "execution_count": 10,
   "id": "d5da0649-f918-4a8c-9fe2-c42a940cef91",
   "metadata": {},
   "outputs": [],
   "source": [
    "df.to_csv(\"baseline_news.csv\", sep=',', index=False, encoding='utf-8')"
   ]
  },
  {
   "cell_type": "markdown",
   "id": "86f33249-15b7-4a5a-a87e-c4d8423fd959",
   "metadata": {},
   "source": [
    "Verify the local copy is same as the baseline dataset"
   ]
  },
  {
   "cell_type": "code",
   "execution_count": 11,
   "id": "a0d5c408-ac9b-4966-9b3e-5a2f36c98365",
   "metadata": {},
   "outputs": [
    {
     "data": {
      "text/html": [
       "<div>\n",
       "<style scoped>\n",
       "    .dataframe tbody tr th:only-of-type {\n",
       "        vertical-align: middle;\n",
       "    }\n",
       "\n",
       "    .dataframe tbody tr th {\n",
       "        vertical-align: top;\n",
       "    }\n",
       "\n",
       "    .dataframe thead th {\n",
       "        text-align: right;\n",
       "    }\n",
       "</style>\n",
       "<table border=\"1\" class=\"dataframe\">\n",
       "  <thead>\n",
       "    <tr style=\"text-align: right;\">\n",
       "      <th></th>\n",
       "      <th>title</th>\n",
       "      <th>text</th>\n",
       "      <th>label</th>\n",
       "    </tr>\n",
       "  </thead>\n",
       "  <tbody>\n",
       "    <tr>\n",
       "      <th>0</th>\n",
       "      <td>You Can Smell Hillary’s Fear</td>\n",
       "      <td>Daniel Greenfield, a Shillman Journalism Fello...</td>\n",
       "      <td>FAKE</td>\n",
       "    </tr>\n",
       "    <tr>\n",
       "      <th>1</th>\n",
       "      <td>Watch The Exact Moment Paul Ryan Committed Pol...</td>\n",
       "      <td>Google Pinterest Digg Linkedin Reddit Stumbleu...</td>\n",
       "      <td>FAKE</td>\n",
       "    </tr>\n",
       "    <tr>\n",
       "      <th>2</th>\n",
       "      <td>Kerry to go to Paris in gesture of sympathy</td>\n",
       "      <td>U.S. Secretary of State John F. Kerry said Mon...</td>\n",
       "      <td>REAL</td>\n",
       "    </tr>\n",
       "    <tr>\n",
       "      <th>3</th>\n",
       "      <td>Bernie supporters on Twitter erupt in anger ag...</td>\n",
       "      <td>— Kaydee King (@KaydeeKing) November 9, 2016 T...</td>\n",
       "      <td>FAKE</td>\n",
       "    </tr>\n",
       "    <tr>\n",
       "      <th>4</th>\n",
       "      <td>The Battle of New York: Why This Primary Matters</td>\n",
       "      <td>It's primary day in New York and front-runners...</td>\n",
       "      <td>REAL</td>\n",
       "    </tr>\n",
       "  </tbody>\n",
       "</table>\n",
       "</div>"
      ],
      "text/plain": [
       "                                               title  \\\n",
       "0                       You Can Smell Hillary’s Fear   \n",
       "1  Watch The Exact Moment Paul Ryan Committed Pol...   \n",
       "2        Kerry to go to Paris in gesture of sympathy   \n",
       "3  Bernie supporters on Twitter erupt in anger ag...   \n",
       "4   The Battle of New York: Why This Primary Matters   \n",
       "\n",
       "                                                text label  \n",
       "0  Daniel Greenfield, a Shillman Journalism Fello...  FAKE  \n",
       "1  Google Pinterest Digg Linkedin Reddit Stumbleu...  FAKE  \n",
       "2  U.S. Secretary of State John F. Kerry said Mon...  REAL  \n",
       "3  — Kaydee King (@KaydeeKing) November 9, 2016 T...  FAKE  \n",
       "4  It's primary day in New York and front-runners...  REAL  "
      ]
     },
     "execution_count": 11,
     "metadata": {},
     "output_type": "execute_result"
    }
   ],
   "source": [
    "baseline_df = read_csv('baseline_news.csv')\n",
    "baseline_df.head()"
   ]
  },
  {
   "cell_type": "code",
   "execution_count": 12,
   "id": "d6b6126e-05c5-4274-9024-0e8e4c670ba4",
   "metadata": {},
   "outputs": [
    {
     "data": {
      "text/plain": [
       "(6335, 3)"
      ]
     },
     "execution_count": 12,
     "metadata": {},
     "output_type": "execute_result"
    }
   ],
   "source": [
    "baseline_df.shape"
   ]
  },
  {
   "cell_type": "markdown",
   "id": "4521c0ed-deae-457e-8284-a8acd3f8f3f0",
   "metadata": {},
   "source": [
    "The local dataset is the same as our baseline dataset."
   ]
  },
  {
   "cell_type": "markdown",
   "id": "7abea742-1d10-4d12-95f0-1abb8e221152",
   "metadata": {},
   "source": [
    "#### Stemming and Stop words removal"
   ]
  },
  {
   "cell_type": "markdown",
   "id": "75ea65c6-5cc5-41e2-9033-78013984b06f",
   "metadata": {},
   "source": [
    "We will proceed to create a cleaned dataset that is baseline dataset that incorporates stemming and stop words removal for improved analysis.}"
   ]
  },
  {
   "cell_type": "code",
   "execution_count": 13,
   "id": "87cc192f-ddb0-475f-a9e3-992898442997",
   "metadata": {},
   "outputs": [
    {
     "data": {
      "text/html": [
       "<div>\n",
       "<style scoped>\n",
       "    .dataframe tbody tr th:only-of-type {\n",
       "        vertical-align: middle;\n",
       "    }\n",
       "\n",
       "    .dataframe tbody tr th {\n",
       "        vertical-align: top;\n",
       "    }\n",
       "\n",
       "    .dataframe thead th {\n",
       "        text-align: right;\n",
       "    }\n",
       "</style>\n",
       "<table border=\"1\" class=\"dataframe\">\n",
       "  <thead>\n",
       "    <tr style=\"text-align: right;\">\n",
       "      <th></th>\n",
       "      <th>title</th>\n",
       "      <th>text</th>\n",
       "      <th>label</th>\n",
       "    </tr>\n",
       "  </thead>\n",
       "  <tbody>\n",
       "    <tr>\n",
       "      <th>0</th>\n",
       "      <td>You Can Smell Hillary’s Fear</td>\n",
       "      <td>daniel greenfield , shillman journal fellow fr...</td>\n",
       "      <td>FAKE</td>\n",
       "    </tr>\n",
       "    <tr>\n",
       "      <th>1</th>\n",
       "      <td>Watch The Exact Moment Paul Ryan Committed Pol...</td>\n",
       "      <td>googl pinterest digg linkedin reddit stumbleup...</td>\n",
       "      <td>FAKE</td>\n",
       "    </tr>\n",
       "    <tr>\n",
       "      <th>2</th>\n",
       "      <td>Kerry to go to Paris in gesture of sympathy</td>\n",
       "      <td>u.s. secretari state john f. kerri said monday...</td>\n",
       "      <td>REAL</td>\n",
       "    </tr>\n",
       "    <tr>\n",
       "      <th>3</th>\n",
       "      <td>Bernie supporters on Twitter erupt in anger ag...</td>\n",
       "      <td>— kayde king ( @ kaydeek ) novemb 9 , 2016 the...</td>\n",
       "      <td>FAKE</td>\n",
       "    </tr>\n",
       "    <tr>\n",
       "      <th>4</th>\n",
       "      <td>The Battle of New York: Why This Primary Matters</td>\n",
       "      <td>it 's primari day new york front-runn hillari ...</td>\n",
       "      <td>REAL</td>\n",
       "    </tr>\n",
       "  </tbody>\n",
       "</table>\n",
       "</div>"
      ],
      "text/plain": [
       "                                               title  \\\n",
       "0                       You Can Smell Hillary’s Fear   \n",
       "1  Watch The Exact Moment Paul Ryan Committed Pol...   \n",
       "2        Kerry to go to Paris in gesture of sympathy   \n",
       "3  Bernie supporters on Twitter erupt in anger ag...   \n",
       "4   The Battle of New York: Why This Primary Matters   \n",
       "\n",
       "                                                text label  \n",
       "0  daniel greenfield , shillman journal fellow fr...  FAKE  \n",
       "1  googl pinterest digg linkedin reddit stumbleup...  FAKE  \n",
       "2  u.s. secretari state john f. kerri said monday...  REAL  \n",
       "3  — kayde king ( @ kaydeek ) novemb 9 , 2016 the...  FAKE  \n",
       "4  it 's primari day new york front-runn hillari ...  REAL  "
      ]
     },
     "execution_count": 13,
     "metadata": {},
     "output_type": "execute_result"
    }
   ],
   "source": [
    "clean_df = baseline_df.copy()\n",
    "\n",
    "stop_words = set(nltk.corpus.stopwords.words(\"english\"))\n",
    "stemmer = nltk.stem.snowball.SnowballStemmer(\"english\")\n",
    "\n",
    "\n",
    "for i in range(len(clean_df)):\n",
    "    # Extract the text from every row\n",
    "    string = clean_df['text'].at[i]\n",
    "    # Tokenise the string\n",
    "    tokens = nltk.tokenize.word_tokenize(string)\n",
    "    # Remove stopwords from the tokens\n",
    "    tokens = [word for word in tokens if word not in stop_words]\n",
    "    # Apply stemming to the tokens answer\n",
    "    tokens = [stemmer.stem(word) for word in tokens]\n",
    "    # Replace original text with cleaned text\n",
    "    clean_df.at[i, 'text'] = ' '.join(tokens)\n",
    "    \n",
    "clean_df.head()"
   ]
  },
  {
   "cell_type": "markdown",
   "id": "bf7d1622-5703-487a-b6b3-7b9b8dc77610",
   "metadata": {},
   "source": [
    "Now that our cleaned dataset is prepared and ready for the further processing, we will also save this locally to save time."
   ]
  },
  {
   "cell_type": "code",
   "execution_count": 14,
   "id": "cd93b9c0-f290-40b3-bd07-283256dce488",
   "metadata": {},
   "outputs": [],
   "source": [
    "clean_df.to_csv(\"clean_news.csv\", sep=',', index=False, encoding='utf-8')"
   ]
  },
  {
   "cell_type": "markdown",
   "id": "23220130-1f10-4f1b-8273-6aa41e6404cb",
   "metadata": {},
   "source": [
    "As we did for the baseline dataset, we will verify the local copy with the cleaned dataset"
   ]
  },
  {
   "cell_type": "code",
   "execution_count": 15,
   "id": "b68bd997-884d-4c79-889b-b35b716425af",
   "metadata": {
    "scrolled": true
   },
   "outputs": [
    {
     "data": {
      "text/html": [
       "<div>\n",
       "<style scoped>\n",
       "    .dataframe tbody tr th:only-of-type {\n",
       "        vertical-align: middle;\n",
       "    }\n",
       "\n",
       "    .dataframe tbody tr th {\n",
       "        vertical-align: top;\n",
       "    }\n",
       "\n",
       "    .dataframe thead th {\n",
       "        text-align: right;\n",
       "    }\n",
       "</style>\n",
       "<table border=\"1\" class=\"dataframe\">\n",
       "  <thead>\n",
       "    <tr style=\"text-align: right;\">\n",
       "      <th></th>\n",
       "      <th>title</th>\n",
       "      <th>text</th>\n",
       "      <th>label</th>\n",
       "    </tr>\n",
       "  </thead>\n",
       "  <tbody>\n",
       "    <tr>\n",
       "      <th>0</th>\n",
       "      <td>You Can Smell Hillary’s Fear</td>\n",
       "      <td>daniel greenfield , shillman journal fellow fr...</td>\n",
       "      <td>FAKE</td>\n",
       "    </tr>\n",
       "    <tr>\n",
       "      <th>1</th>\n",
       "      <td>Watch The Exact Moment Paul Ryan Committed Pol...</td>\n",
       "      <td>googl pinterest digg linkedin reddit stumbleup...</td>\n",
       "      <td>FAKE</td>\n",
       "    </tr>\n",
       "    <tr>\n",
       "      <th>2</th>\n",
       "      <td>Kerry to go to Paris in gesture of sympathy</td>\n",
       "      <td>u.s. secretari state john f. kerri said monday...</td>\n",
       "      <td>REAL</td>\n",
       "    </tr>\n",
       "    <tr>\n",
       "      <th>3</th>\n",
       "      <td>Bernie supporters on Twitter erupt in anger ag...</td>\n",
       "      <td>— kayde king ( @ kaydeek ) novemb 9 , 2016 the...</td>\n",
       "      <td>FAKE</td>\n",
       "    </tr>\n",
       "    <tr>\n",
       "      <th>4</th>\n",
       "      <td>The Battle of New York: Why This Primary Matters</td>\n",
       "      <td>it 's primari day new york front-runn hillari ...</td>\n",
       "      <td>REAL</td>\n",
       "    </tr>\n",
       "  </tbody>\n",
       "</table>\n",
       "</div>"
      ],
      "text/plain": [
       "                                               title  \\\n",
       "0                       You Can Smell Hillary’s Fear   \n",
       "1  Watch The Exact Moment Paul Ryan Committed Pol...   \n",
       "2        Kerry to go to Paris in gesture of sympathy   \n",
       "3  Bernie supporters on Twitter erupt in anger ag...   \n",
       "4   The Battle of New York: Why This Primary Matters   \n",
       "\n",
       "                                                text label  \n",
       "0  daniel greenfield , shillman journal fellow fr...  FAKE  \n",
       "1  googl pinterest digg linkedin reddit stumbleup...  FAKE  \n",
       "2  u.s. secretari state john f. kerri said monday...  REAL  \n",
       "3  — kayde king ( @ kaydeek ) novemb 9 , 2016 the...  FAKE  \n",
       "4  it 's primari day new york front-runn hillari ...  REAL  "
      ]
     },
     "execution_count": 15,
     "metadata": {},
     "output_type": "execute_result"
    }
   ],
   "source": [
    "clean_df=read_csv('clean_news.csv')\n",
    "clean_df.head()"
   ]
  },
  {
   "cell_type": "code",
   "execution_count": 16,
   "id": "73d7f71a-66cd-4c82-8320-71e801f92dd3",
   "metadata": {},
   "outputs": [
    {
     "data": {
      "text/plain": [
       "(6335, 3)"
      ]
     },
     "execution_count": 16,
     "metadata": {},
     "output_type": "execute_result"
    }
   ],
   "source": [
    "clean_df.shape"
   ]
  },
  {
   "cell_type": "code",
   "execution_count": 17,
   "id": "bc7a360a-c48b-4dec-b9d5-52d2c4b798cb",
   "metadata": {},
   "outputs": [
    {
     "data": {
      "text/plain": [
       "label\n",
       "REAL    3171\n",
       "FAKE    3164\n",
       "Name: count, dtype: int64"
      ]
     },
     "execution_count": 17,
     "metadata": {},
     "output_type": "execute_result"
    }
   ],
   "source": [
    "clean_df.label.value_counts()"
   ]
  },
  {
   "cell_type": "markdown",
   "id": "6d009497-19ea-455e-99c2-920b57a70eb0",
   "metadata": {},
   "source": [
    "Perfect, the local dataset is the same as our cleaned dataset."
   ]
  },
  {
   "cell_type": "markdown",
   "id": "a5b9e088-cecf-4a60-b549-f9131c2258b5",
   "metadata": {},
   "source": [
    "As mentioned in the report, we will mirror the baseline dataset and incorporate stemming and stop words removal to compare the results."
   ]
  },
  {
   "cell_type": "markdown",
   "id": "5d4473fa-b4d0-4285-9067-b43d1edc4b7b",
   "metadata": {},
   "source": [
    "# Feature Extraction Stage"
   ]
  },
  {
   "cell_type": "markdown",
   "id": "776ea854-ef82-4aba-9777-a109c4d999e9",
   "metadata": {},
   "source": [
    "In this feature prototype we will only be implementing TF-IDF feature extraction method.\n",
    "\n",
    "Firstly dataset will be splitted into training set and test set at the ratio of 8:2, random state will be set at 7 to ensure results are the same everytime we run the training."
   ]
  },
  {
   "cell_type": "code",
   "execution_count": 18,
   "id": "3ab91ad9-4aee-4137-96d8-6d15e48d9ea7",
   "metadata": {},
   "outputs": [],
   "source": [
    "# Create a function to split dataset using 8:2 ratio and random state of 7.\n",
    "# As we have multiple dataset, reading code will be easier with this helper function\n",
    "def train_test_splitter(dataset, labels, test_size=0.2, random_state=7):\n",
    "    return train_test_split(dataset, labels, test_size=0.2,random_state=7)\n",
    "\n",
    "baseline_x_train, baseline_x_test, baseline_y_train, baseline_y_test = train_test_splitter(dataset=baseline_df['text'], labels=baseline_df['label'])\n",
    "clean_x_train, clean_x_test, clean_y_train, clean_y_test = train_test_splitter(dataset=clean_df['text'], labels=clean_df['label'])"
   ]
  },
  {
   "cell_type": "markdown",
   "id": "aa21712f-e2f0-4409-a454-3502a28f378a",
   "metadata": {},
   "source": [
    "Create a vectorizer and fit and transform the training set and fit the test set onto it."
   ]
  },
  {
   "cell_type": "code",
   "execution_count": 20,
   "id": "437b1444-0991-487e-84cc-b6fd463a1019",
   "metadata": {},
   "outputs": [],
   "source": [
    "#Initialize the vectorizer (Currently without hyperparameter)\n",
    "vectorizer = TfidfVectorizer()\n",
    "baseline_tfidf_train=vectorizer.fit_transform(baseline_x_train) \n",
    "baseline_tfidf_test=vectorizer.transform(baseline_x_test)\n",
    "\n",
    "clean_tfidf_train=vectorizer.fit_transform(baseline_x_train) \n",
    "clean_tfidf_test=vectorizer.transform(baseline_x_test)"
   ]
  },
  {
   "cell_type": "markdown",
   "id": "df9861a3-4846-4c4d-8c1a-838a7b19cd3e",
   "metadata": {},
   "source": [
    "# Model Training Stage"
   ]
  },
  {
   "cell_type": "markdown",
   "id": "f30e96c4-3083-4d7d-a5ec-d943a386e104",
   "metadata": {},
   "source": [
    "Train the Multinomial Naive Bayes classifier on the TF-IDF features."
   ]
  },
  {
   "cell_type": "code",
   "execution_count": 41,
   "id": "526df01d-fa43-4690-8557-94bc624a4178",
   "metadata": {},
   "outputs": [],
   "source": [
    "# For Baseline data\n",
    "# Initialize the Naive Bayes Classifier\n",
    "baseline_NB = MultinomialNB()\n",
    "\n",
    "# Fit the training data to the classifier\n",
    "baseline_NB.fit(baseline_tfidf_train, baseline_y_train)\n",
    "# Predict the values\n",
    "baseline_y_pred=baseline_NB.predict(baseline_tfidf_test)\n",
    "baseline_y_pred_probability = baseline_NB.predict_proba(baseline_tfidf_test)[:, 1]\n",
    "\n",
    "# For Clean data\n",
    "# Initialize the Naive Bayes Classifier\n",
    "clean_NB = MultinomialNB()\n",
    "# Fit the training data to the classifier\n",
    "clean_NB.fit(clean_tfidf_train, clean_y_train)\n",
    "# Predict the values\n",
    "clean_y_pred=clean_NB.predict(clean_tfidf_test)\n",
    "clean_y_pred_probability = clean_NB.predict_proba(clean_tfidf_test)[:, 1]"
   ]
  },
  {
   "cell_type": "markdown",
   "id": "86b9e72f-ef60-47e4-acc1-f3773491dbea",
   "metadata": {},
   "source": [
    "# Model Evaluation Stage"
   ]
  },
  {
   "cell_type": "markdown",
   "id": "85abec50-7b17-4b35-9e84-375d8a3e57b8",
   "metadata": {},
   "source": [
    "Calculate the Accuracy, Precision, Recall, F1-Score and ROC-AUC score of the models"
   ]
  },
  {
   "cell_type": "code",
   "execution_count": 44,
   "id": "d895be0c-7a49-419c-8184-536165e3851a",
   "metadata": {},
   "outputs": [
    {
     "name": "stdout",
     "output_type": "stream",
     "text": [
      "Scores for baseline dataset (TF-IDF/NB)\n",
      "Accuracy: 81.61%\n",
      "Precision: 73.19%\n",
      "Recall: 99.36%\n",
      "F1: 84.29%\n",
      "ROC: 96.89%\n",
      "\n",
      "Scores for clean dataset (TF-IDF/NB)\n",
      "Accuracy: 81.61%\n",
      "Precision: 73.19%\n",
      "Recall: 99.36%\n",
      "F1: 84.29%\n",
      "ROC: 96.89%\n"
     ]
    }
   ],
   "source": [
    "# For Baseline data\n",
    "# Accquire the accuracy score of the model\n",
    "baseline_accuracy = accuracy_score(baseline_y_test,baseline_y_pred)\n",
    "baseline_precision = precision_score(baseline_y_test, baseline_y_pred, pos_label='REAL')\n",
    "baseline_recall = recall_score(baseline_y_test, baseline_y_pred, pos_label='REAL')\n",
    "baseline_f1 = f1_score(baseline_y_test, baseline_y_pred, pos_label='REAL')\n",
    "baseline_roc = roc_auc_score(baseline_y_test,baseline_y_pred_probability)\n",
    "\n",
    "# Print the results\n",
    "print(\"Scores for baseline dataset (TF-IDF/NB)\")\n",
    "print(f'Accuracy: {round(baseline_accuracy*100,2)}%')\n",
    "print(f'Precision: {round(baseline_precision*100,2)}%')\n",
    "print(f'Recall: {round(baseline_recall*100,2)}%')\n",
    "print(f'F1: {round(baseline_f1*100,2)}%')\n",
    "print(f'ROC: {round(baseline_roc*100,2)}%')\n",
    "\n",
    "# For Clean data\n",
    "# Accquire the accuracy score of the model\n",
    "clean_accuracy = accuracy_score(clean_y_test,clean_y_pred)\n",
    "clean_precision = precision_score(clean_y_test, clean_y_pred, pos_label='REAL')\n",
    "clean_recall = recall_score(clean_y_test, clean_y_pred, pos_label='REAL')\n",
    "clean_f1 = f1_score(clean_y_test, clean_y_pred, pos_label='REAL')\n",
    "clean_roc = roc_auc_score(clean_y_test,clean_y_pred_probability)\n",
    "\n",
    "# Print the results\n",
    "print(\"\\nScores for clean dataset (TF-IDF/NB)\")\n",
    "print(f'Accuracy: {round(clean_accuracy*100,2)}%')\n",
    "print(f'Precision: {round(clean_precision*100,2)}%')\n",
    "print(f'Recall: {round(clean_recall*100,2)}%')\n",
    "print(f'F1: {round(clean_f1*100,2)}%')\n",
    "print(f'ROC: {round(clean_roc*100,2)}%')"
   ]
  },
  {
   "cell_type": "markdown",
   "id": "b3355c88-cb2d-4b36-b74f-0e21e54da3fa",
   "metadata": {},
   "source": [
    "#### Visualizing the perfomance using a confusion matrix"
   ]
  },
  {
   "cell_type": "code",
   "execution_count": 29,
   "id": "8646c718-e42b-433b-bcb2-d2a4011d2411",
   "metadata": {},
   "outputs": [
    {
     "data": {
      "text/plain": [
       "Text(0.5, 1.0, 'Clean Dataset Confusion Matrix (TF-IDF/NB)')"
      ]
     },
     "execution_count": 29,
     "metadata": {},
     "output_type": "execute_result"
    },
    {
     "data": {
      "image/png": "[encoded data removed]",
      "text/plain": [
       "<Figure size 1200x500 with 4 Axes>"
      ]
     },
     "metadata": {},
     "output_type": "display_data"
    }
   ],
   "source": [
    "# Plotting subplots\n",
    "fig, axes = plt.subplots(1, 2, figsize=(12, 5))\n",
    "\n",
    "# Create the confusion matrix and display for both dataset\n",
    "baseline_cm = confusion_matrix(baseline_y_test, baseline_y_pred)\n",
    "clean_cm = confusion_matrix(clean_y_test, clean_y_pred)\n",
    "\n",
    "baseline_cm_display = ConfusionMatrixDisplay(baseline_cm, display_labels=['REAL','FAKE'])\n",
    "clean_cm_display = ConfusionMatrixDisplay(clean_cm, display_labels=['REAL','FAKE'])\n",
    "\n",
    "# Plot the Confusion Matrices \n",
    "baseline_cm_display.plot(ax=axes[0])\n",
    "clean_cm_display.plot(ax=axes[1])\n",
    "\n",
    "axes[0].set_title('Baseline Dataset Confusion Matrix (TF-IDF/NB)', fontsize=10)\n",
    "axes[1].set_title('Clean Dataset Confusion Matrix (TF-IDF/NB)', fontsize=10)"
   ]
  },
  {
   "cell_type": "code",
   "execution_count": 54,
   "id": "9bd99d80-0e72-40a1-bcd1-747a0ce51262",
   "metadata": {},
   "outputs": [
    {
     "data": {
      "image/png": "[encoded data removed]",
      "text/plain": [
       "<Figure size 1200x500 with 2 Axes>"
      ]
     },
     "metadata": {},
     "output_type": "display_data"
    }
   ],
   "source": [
    "plt.figure(figsize=(12, 5))\n",
    "\n",
    "baseline_fpr, baseline_tpr, _ = roc_curve(baseline_y_test, baseline_y_pred_probability, pos_label=\"REAL\")\n",
    "\n",
    "# Plot ROC curve for baseline\n",
    "plt.subplot(1, 2, 1)\n",
    "plt.plot(baseline_fpr, baseline_tpr, label=f'ROC curve (AUC = {baseline_roc:.2f})')\n",
    "plt.xlabel('False Positive Rate')\n",
    "plt.ylabel('True Positive Rate')\n",
    "plt.title('Baseline (TF-IDF/NB)')\n",
    "plt.legend(loc='lower right')\n",
    "\n",
    "clean_fpr, clean_tpr, _ = roc_curve(baseline_y_test, baseline_y_pred_probability, pos_label=\"REAL\")\n",
    "\n",
    "# Plot ROC curve for clean\n",
    "plt.subplot(1, 2, 2)\n",
    "plt.plot(clean_fpr, clean_tpr, label=f'ROC curve (AUC = {clean_roc:.2f})')\n",
    "plt.xlabel('False Positive Rate')\n",
    "plt.ylabel('True Positive Rate')\n",
    "plt.title('Clean (TF-IDF/NB)')\n",
    "plt.legend(loc='lower right')\n",
    "\n",
    "plt.tight_layout()\n",
    "plt.show()"
   ]
  },
  {
   "cell_type": "markdown",
   "id": "a25ba3bd-717a-49f7-bf7f-af2603b85ffc",
   "metadata": {},
   "source": [
    "# Conclusion"
   ]
  },
  {
   "cell_type": "markdown",
   "id": "667a6a81-2c16-4124-9252-5fe10c0732fb",
   "metadata": {},
   "source": [
    "Our model, although performing weaker than weaker than the example shown in https://data-flair.training/blogs/advanced-python-project-detecting-fake-news/ which uses PassiveAggressiveClassifier but it is close enough considering no fine tuning is done. The model performed identically on both datasets and it could be due to the nature of how TF-IDF works (words that appear across multiple documents hold lesser weight)stemming and stop word removal may not have impacted the results. \n",
    "\n",
    "Based on these scores, we are satisfied with the implementation and have successfully created a data pipeline. Next prototype will be built on top of this where we will implement the remaining models and feature extraction methods."
   ]
  }
 ],
 "metadata": {
  "kernelspec": {
   "display_name": "Python 3 (ipykernel)",
   "language": "python",
   "name": "python3"
  },
  "language_info": {
   "codemirror_mode": {
    "name": "ipython",
    "version": 3
   },
   "file_extension": ".py",
   "mimetype": "text/x-python",
   "name": "python",
   "nbconvert_exporter": "python",
   "pygments_lexer": "ipython3",
   "version": "3.9.18"
  }
 },
 "nbformat": 4,
 "nbformat_minor": 5
}
