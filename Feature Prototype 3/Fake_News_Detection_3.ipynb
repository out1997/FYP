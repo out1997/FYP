{
 "cells": [
  {
   "cell_type": "markdown",
   "id": "78c69afd-74a4-4422-8e98-42ed570c760c",
   "metadata": {},
   "source": [
    "<strong>CM3070 Final Project <br>\n",
    "Student ID: 210486014 <br>\n",
    "Name: Amos Kam Hong Yoke <br>\n",
    "Title: Content-Based approach on Fake News Detection using Machine Learning <br> \n",
    "GitHub:https://github.com/out1997/FYP <br>\n",
    "Video Demonstration: https://youtu.be/wUHhLhvdc0g\n",
    "</strong>"
   ]
  },
  {
   "cell_type": "markdown",
   "id": "90488ae7-a615-46c6-af22-698a0d5a8468",
   "metadata": {},
   "source": [
    "# Preparing the jupyter notebook"
   ]
  },
  {
   "cell_type": "code",
   "execution_count": 3,
   "id": "31ff0125-97f5-49a6-8491-3ae3778cd357",
   "metadata": {},
   "outputs": [
    {
     "name": "stdout",
     "output_type": "stream",
     "text": [
      "Python 3.9.18\n"
     ]
    }
   ],
   "source": [
    "!python --version"
   ]
  },
  {
   "cell_type": "markdown",
   "id": "03d10844-838e-4971-8c8c-178d32e64141",
   "metadata": {},
   "source": [
    "#### Import necessary libraries"
   ]
  },
  {
   "cell_type": "code",
   "execution_count": 67,
   "id": "ed566c2e-ca59-431d-ac84-f9421f86ca1f",
   "metadata": {},
   "outputs": [],
   "source": [
    "#!pip install numpy\n",
    "#!pip install pandas\n",
    "#!pip install nltk\n",
    "#!pip install gensim\n",
    "#!pip install pickle"
   ]
  },
  {
   "cell_type": "code",
   "execution_count": 5,
   "id": "2c2a2e7b-7fb8-43f1-b823-8c70f266d7b5",
   "metadata": {},
   "outputs": [],
   "source": [
    "import numpy as np\n",
    "import pandas as pd\n",
    "import nltk\n",
    "#nltk.download('corpus')\n",
    "#nltk.download('punkt')\n",
    "import re\n",
    "import matplotlib.pyplot as plt\n",
    "\n",
    "# Feature Extraction libraries\n",
    "from sklearn.model_selection import train_test_split\n",
    "# TFIDF\n",
    "from sklearn.feature_extraction.text import TfidfVectorizer\n",
    "# N-Grams\n",
    "from sklearn.feature_extraction.text import CountVectorizer\n",
    "from sklearn.model_selection import GridSearchCV\n",
    "# Word2Vec\n",
    "from gensim.models import Word2Vec\n",
    "from sklearn.pipeline import Pipeline\n",
    "from sklearn.preprocessing import FunctionTransformer\n",
    "\n",
    "# Model Libraries\n",
    "from sklearn.naive_bayes import MultinomialNB\n",
    "from sklearn.tree import DecisionTreeClassifier\n",
    "from sklearn.ensemble import RandomForestClassifier\n",
    "from sklearn.linear_model import LogisticRegression\n",
    "from sklearn import svm\n",
    "\n",
    "# Evaluation Metri\n",
    "from sklearn.metrics import accuracy_score, precision_score, recall_score, f1_score, roc_curve, roc_auc_score, confusion_matrix, ConfusionMatrixDisplay\n",
    "\n",
    "# Saving of and loading of Models\n",
    "import pickle"
   ]
  },
  {
   "cell_type": "markdown",
   "id": "ca86bb8a-610e-49f3-bfbe-7076076dac56",
   "metadata": {},
   "source": [
    "# Data Preparation Stage"
   ]
  },
  {
   "cell_type": "markdown",
   "id": "45c9bd4f-c7a9-4626-9ddd-3a70de6ea821",
   "metadata": {},
   "source": [
    "## Data Exploration"
   ]
  },
  {
   "cell_type": "markdown",
   "id": "915e7f7c-caf3-4091-8c9e-6e94d72d709b",
   "metadata": {},
   "source": [
    "#### Read the data from dataset (news.csv)"
   ]
  },
  {
   "cell_type": "code",
   "execution_count": 2,
   "id": "83e85c6a-8610-4dac-bcf5-83e8bf9404eb",
   "metadata": {},
   "outputs": [],
   "source": [
    "# Run this block to use the local copy and skip the pre-processing stage.\n",
    "# Else skip this cell.\n",
    "baseline_df=pd.read_csv('baseline_news.csv')\n",
    "clean_df=pd.read_csv('clean_news.csv')\n",
    "clean_df = clean_df.astype(str)"
   ]
  },
  {
   "cell_type": "code",
   "execution_count": 3,
   "id": "7536e07e-d3ec-444c-9c1d-60c544a42d65",
   "metadata": {},
   "outputs": [
    {
     "data": {
      "text/html": [
       "<div>\n",
       "<style scoped>\n",
       "    .dataframe tbody tr th:only-of-type {\n",
       "        vertical-align: middle;\n",
       "    }\n",
       "\n",
       "    .dataframe tbody tr th {\n",
       "        vertical-align: top;\n",
       "    }\n",
       "\n",
       "    .dataframe thead th {\n",
       "        text-align: right;\n",
       "    }\n",
       "</style>\n",
       "<table border=\"1\" class=\"dataframe\">\n",
       "  <thead>\n",
       "    <tr style=\"text-align: right;\">\n",
       "      <th></th>\n",
       "      <th>Unnamed: 0</th>\n",
       "      <th>title</th>\n",
       "      <th>text</th>\n",
       "      <th>label</th>\n",
       "    </tr>\n",
       "  </thead>\n",
       "  <tbody>\n",
       "    <tr>\n",
       "      <th>0</th>\n",
       "      <td>8476</td>\n",
       "      <td>You Can Smell Hillary’s Fear</td>\n",
       "      <td>Daniel Greenfield, a Shillman Journalism Fello...</td>\n",
       "      <td>FAKE</td>\n",
       "    </tr>\n",
       "    <tr>\n",
       "      <th>1</th>\n",
       "      <td>10294</td>\n",
       "      <td>Watch The Exact Moment Paul Ryan Committed Pol...</td>\n",
       "      <td>Google Pinterest Digg Linkedin Reddit Stumbleu...</td>\n",
       "      <td>FAKE</td>\n",
       "    </tr>\n",
       "    <tr>\n",
       "      <th>2</th>\n",
       "      <td>3608</td>\n",
       "      <td>Kerry to go to Paris in gesture of sympathy</td>\n",
       "      <td>U.S. Secretary of State John F. Kerry said Mon...</td>\n",
       "      <td>REAL</td>\n",
       "    </tr>\n",
       "    <tr>\n",
       "      <th>3</th>\n",
       "      <td>10142</td>\n",
       "      <td>Bernie supporters on Twitter erupt in anger ag...</td>\n",
       "      <td>— Kaydee King (@KaydeeKing) November 9, 2016 T...</td>\n",
       "      <td>FAKE</td>\n",
       "    </tr>\n",
       "    <tr>\n",
       "      <th>4</th>\n",
       "      <td>875</td>\n",
       "      <td>The Battle of New York: Why This Primary Matters</td>\n",
       "      <td>It's primary day in New York and front-runners...</td>\n",
       "      <td>REAL</td>\n",
       "    </tr>\n",
       "  </tbody>\n",
       "</table>\n",
       "</div>"
      ],
      "text/plain": [
       "   Unnamed: 0                                              title  \\\n",
       "0        8476                       You Can Smell Hillary’s Fear   \n",
       "1       10294  Watch The Exact Moment Paul Ryan Committed Pol...   \n",
       "2        3608        Kerry to go to Paris in gesture of sympathy   \n",
       "3       10142  Bernie supporters on Twitter erupt in anger ag...   \n",
       "4         875   The Battle of New York: Why This Primary Matters   \n",
       "\n",
       "                                                text label  \n",
       "0  Daniel Greenfield, a Shillman Journalism Fello...  FAKE  \n",
       "1  Google Pinterest Digg Linkedin Reddit Stumbleu...  FAKE  \n",
       "2  U.S. Secretary of State John F. Kerry said Mon...  REAL  \n",
       "3  — Kaydee King (@KaydeeKing) November 9, 2016 T...  FAKE  \n",
       "4  It's primary day in New York and front-runners...  REAL  "
      ]
     },
     "execution_count": 3,
     "metadata": {},
     "output_type": "execute_result"
    }
   ],
   "source": [
    "#Code and news.csv source from https://data-flair.training/blogs/advanced-python-project-detecting-fake-news/\n",
    "\n",
    "#DataFlair - Read the data\n",
    "df=pd.read_csv('news.csv')\n",
    "\n",
    "#DataFlair - Get shape and head\n",
    "df.head()"
   ]
  },
  {
   "cell_type": "code",
   "execution_count": 4,
   "id": "f3d84e46-cae5-48ab-aa9d-3183fcf75100",
   "metadata": {},
   "outputs": [
    {
     "data": {
      "text/plain": [
       "(6335, 4)"
      ]
     },
     "execution_count": 4,
     "metadata": {},
     "output_type": "execute_result"
    }
   ],
   "source": [
    "df.shape"
   ]
  },
  {
   "cell_type": "markdown",
   "id": "5c9c0de3-ca79-458e-9adf-ee7af3ced933",
   "metadata": {},
   "source": [
    "According to the dataset source the first coloumn is some sort of identifier for the news. It is irrelevant in our use case hence we will drop this column in the data cleaning part later."
   ]
  },
  {
   "cell_type": "code",
   "execution_count": 5,
   "id": "cd1a5828-723d-4720-bb2d-3a1b9b241596",
   "metadata": {},
   "outputs": [
    {
     "data": {
      "text/plain": [
       "0    FAKE\n",
       "1    FAKE\n",
       "2    REAL\n",
       "3    FAKE\n",
       "4    REAL\n",
       "Name: label, dtype: object"
      ]
     },
     "execution_count": 5,
     "metadata": {},
     "output_type": "execute_result"
    }
   ],
   "source": [
    "#DataFlair - Get the labels\n",
    "labels=df.label\n",
    "labels.head()"
   ]
  },
  {
   "cell_type": "code",
   "execution_count": 6,
   "id": "0230a670-6f76-4efb-b596-b9f44fe73747",
   "metadata": {},
   "outputs": [
    {
     "data": {
      "text/plain": [
       "label\n",
       "REAL    3171\n",
       "FAKE    3164\n",
       "Name: count, dtype: int64"
      ]
     },
     "execution_count": 6,
     "metadata": {},
     "output_type": "execute_result"
    }
   ],
   "source": [
    "#Show the number of Real News and Fake News in dataset\n",
    "labels.value_counts()"
   ]
  },
  {
   "cell_type": "markdown",
   "id": "64bd68c9-bf4d-40ee-a0d6-cab1b2a75991",
   "metadata": {},
   "source": [
    "There are a total number of 3171 rows of data labeled as REAL and 3164 rows of data labeled as FAKE"
   ]
  },
  {
   "cell_type": "code",
   "execution_count": 7,
   "id": "7b712a87-6938-470d-9d4f-b20924215b08",
   "metadata": {},
   "outputs": [
    {
     "data": {
      "text/plain": [
       "Unnamed: 0    0\n",
       "title         0\n",
       "text          0\n",
       "label         0\n",
       "dtype: int64"
      ]
     },
     "execution_count": 7,
     "metadata": {},
     "output_type": "execute_result"
    }
   ],
   "source": [
    "df.isna().sum()  "
   ]
  },
  {
   "cell_type": "markdown",
   "id": "c24ca550-85db-40cb-8a62-c0d4b9593560",
   "metadata": {},
   "source": [
    "Dataset seems to have no missing values and is generally clean except for the first column containing the news identifier which is irrelevant to our use case."
   ]
  },
  {
   "cell_type": "markdown",
   "id": "37677618-21da-47e1-9566-a70bb42ff3af",
   "metadata": {},
   "source": [
    "#### Data cleaning"
   ]
  },
  {
   "cell_type": "markdown",
   "id": "92b27f47-8e89-4528-9d40-1d77b7bdb223",
   "metadata": {},
   "source": [
    "As mentioned earlier, we will be dropping the first column as well as \"title\" column as I deemed that when comparing to the \"text\" column, \"title\" may have little to no impact, removing it will reduce file size and training time."
   ]
  },
  {
   "cell_type": "code",
   "execution_count": 8,
   "id": "f259b22a-5316-4ea7-a7fe-08471da9f8a9",
   "metadata": {},
   "outputs": [
    {
     "data": {
      "text/html": [
       "<div>\n",
       "<style scoped>\n",
       "    .dataframe tbody tr th:only-of-type {\n",
       "        vertical-align: middle;\n",
       "    }\n",
       "\n",
       "    .dataframe tbody tr th {\n",
       "        vertical-align: top;\n",
       "    }\n",
       "\n",
       "    .dataframe thead th {\n",
       "        text-align: right;\n",
       "    }\n",
       "</style>\n",
       "<table border=\"1\" class=\"dataframe\">\n",
       "  <thead>\n",
       "    <tr style=\"text-align: right;\">\n",
       "      <th></th>\n",
       "      <th>text</th>\n",
       "      <th>label</th>\n",
       "    </tr>\n",
       "  </thead>\n",
       "  <tbody>\n",
       "    <tr>\n",
       "      <th>0</th>\n",
       "      <td>Daniel Greenfield, a Shillman Journalism Fello...</td>\n",
       "      <td>FAKE</td>\n",
       "    </tr>\n",
       "    <tr>\n",
       "      <th>1</th>\n",
       "      <td>Google Pinterest Digg Linkedin Reddit Stumbleu...</td>\n",
       "      <td>FAKE</td>\n",
       "    </tr>\n",
       "    <tr>\n",
       "      <th>2</th>\n",
       "      <td>U.S. Secretary of State John F. Kerry said Mon...</td>\n",
       "      <td>REAL</td>\n",
       "    </tr>\n",
       "    <tr>\n",
       "      <th>3</th>\n",
       "      <td>— Kaydee King (@KaydeeKing) November 9, 2016 T...</td>\n",
       "      <td>FAKE</td>\n",
       "    </tr>\n",
       "    <tr>\n",
       "      <th>4</th>\n",
       "      <td>It's primary day in New York and front-runners...</td>\n",
       "      <td>REAL</td>\n",
       "    </tr>\n",
       "  </tbody>\n",
       "</table>\n",
       "</div>"
      ],
      "text/plain": [
       "                                                text label\n",
       "0  Daniel Greenfield, a Shillman Journalism Fello...  FAKE\n",
       "1  Google Pinterest Digg Linkedin Reddit Stumbleu...  FAKE\n",
       "2  U.S. Secretary of State John F. Kerry said Mon...  REAL\n",
       "3  — Kaydee King (@KaydeeKing) November 9, 2016 T...  FAKE\n",
       "4  It's primary day in New York and front-runners...  REAL"
      ]
     },
     "execution_count": 8,
     "metadata": {},
     "output_type": "execute_result"
    }
   ],
   "source": [
    "df.drop(columns=df.columns[[0,1]], axis=1,  inplace=True)\n",
    "df.head()"
   ]
  },
  {
   "cell_type": "code",
   "execution_count": 9,
   "id": "c2aa7265-6cc4-4da0-a0b6-dffdf5065346",
   "metadata": {},
   "outputs": [
    {
     "data": {
      "text/plain": [
       "(6335, 2)"
      ]
     },
     "execution_count": 9,
     "metadata": {},
     "output_type": "execute_result"
    }
   ],
   "source": [
    "df.shape"
   ]
  },
  {
   "cell_type": "markdown",
   "id": "aebbe271-7157-440e-826c-ddab3add2b22",
   "metadata": {},
   "source": [
    "We check the shape and first 5 rows of the dataset to ensure we only drop the column."
   ]
  },
  {
   "cell_type": "markdown",
   "id": "e5d4afb5-410a-426d-92f1-cad3cef66a5f",
   "metadata": {},
   "source": [
    "Now that our baseline dataset is prepared and ready for the further processing, we will save a local copy so we don't have to run these cleaning process everytime."
   ]
  },
  {
   "cell_type": "code",
   "execution_count": 10,
   "id": "d5da0649-f918-4a8c-9fe2-c42a940cef91",
   "metadata": {},
   "outputs": [],
   "source": [
    "df.to_csv(\"baseline_news.csv\", sep=',', index=False, encoding='utf-8')"
   ]
  },
  {
   "cell_type": "markdown",
   "id": "86f33249-15b7-4a5a-a87e-c4d8423fd959",
   "metadata": {},
   "source": [
    "Verify the local copy is same as the baseline dataset"
   ]
  },
  {
   "cell_type": "code",
   "execution_count": 11,
   "id": "a0d5c408-ac9b-4966-9b3e-5a2f36c98365",
   "metadata": {},
   "outputs": [
    {
     "data": {
      "text/html": [
       "<div>\n",
       "<style scoped>\n",
       "    .dataframe tbody tr th:only-of-type {\n",
       "        vertical-align: middle;\n",
       "    }\n",
       "\n",
       "    .dataframe tbody tr th {\n",
       "        vertical-align: top;\n",
       "    }\n",
       "\n",
       "    .dataframe thead th {\n",
       "        text-align: right;\n",
       "    }\n",
       "</style>\n",
       "<table border=\"1\" class=\"dataframe\">\n",
       "  <thead>\n",
       "    <tr style=\"text-align: right;\">\n",
       "      <th></th>\n",
       "      <th>text</th>\n",
       "      <th>label</th>\n",
       "    </tr>\n",
       "  </thead>\n",
       "  <tbody>\n",
       "    <tr>\n",
       "      <th>0</th>\n",
       "      <td>Daniel Greenfield, a Shillman Journalism Fello...</td>\n",
       "      <td>FAKE</td>\n",
       "    </tr>\n",
       "    <tr>\n",
       "      <th>1</th>\n",
       "      <td>Google Pinterest Digg Linkedin Reddit Stumbleu...</td>\n",
       "      <td>FAKE</td>\n",
       "    </tr>\n",
       "    <tr>\n",
       "      <th>2</th>\n",
       "      <td>U.S. Secretary of State John F. Kerry said Mon...</td>\n",
       "      <td>REAL</td>\n",
       "    </tr>\n",
       "    <tr>\n",
       "      <th>3</th>\n",
       "      <td>— Kaydee King (@KaydeeKing) November 9, 2016 T...</td>\n",
       "      <td>FAKE</td>\n",
       "    </tr>\n",
       "    <tr>\n",
       "      <th>4</th>\n",
       "      <td>It's primary day in New York and front-runners...</td>\n",
       "      <td>REAL</td>\n",
       "    </tr>\n",
       "  </tbody>\n",
       "</table>\n",
       "</div>"
      ],
      "text/plain": [
       "                                                text label\n",
       "0  Daniel Greenfield, a Shillman Journalism Fello...  FAKE\n",
       "1  Google Pinterest Digg Linkedin Reddit Stumbleu...  FAKE\n",
       "2  U.S. Secretary of State John F. Kerry said Mon...  REAL\n",
       "3  — Kaydee King (@KaydeeKing) November 9, 2016 T...  FAKE\n",
       "4  It's primary day in New York and front-runners...  REAL"
      ]
     },
     "execution_count": 11,
     "metadata": {},
     "output_type": "execute_result"
    }
   ],
   "source": [
    "baseline_df = pd.read_csv('baseline_news.csv')\n",
    "baseline_df.head()"
   ]
  },
  {
   "cell_type": "code",
   "execution_count": 12,
   "id": "d6b6126e-05c5-4274-9024-0e8e4c670ba4",
   "metadata": {},
   "outputs": [
    {
     "data": {
      "text/plain": [
       "(6335, 2)"
      ]
     },
     "execution_count": 12,
     "metadata": {},
     "output_type": "execute_result"
    }
   ],
   "source": [
    "baseline_df.shape"
   ]
  },
  {
   "cell_type": "markdown",
   "id": "4521c0ed-deae-457e-8284-a8acd3f8f3f0",
   "metadata": {},
   "source": [
    "We have verified that the local baseline dataset is the same as our baseline dataset."
   ]
  },
  {
   "cell_type": "markdown",
   "id": "7abea742-1d10-4d12-95f0-1abb8e221152",
   "metadata": {},
   "source": [
    "## Stemming and Stop words removal"
   ]
  },
  {
   "cell_type": "markdown",
   "id": "75ea65c6-5cc5-41e2-9033-78013984b06f",
   "metadata": {},
   "source": [
    "We will proceed to create a cleaned dataset that is baseline dataset that incorporates stemming and stop words removal for improved analysis."
   ]
  },
  {
   "cell_type": "code",
   "execution_count": 13,
   "id": "87cc192f-ddb0-475f-a9e3-992898442997",
   "metadata": {},
   "outputs": [
    {
     "data": {
      "text/html": [
       "<div>\n",
       "<style scoped>\n",
       "    .dataframe tbody tr th:only-of-type {\n",
       "        vertical-align: middle;\n",
       "    }\n",
       "\n",
       "    .dataframe tbody tr th {\n",
       "        vertical-align: top;\n",
       "    }\n",
       "\n",
       "    .dataframe thead th {\n",
       "        text-align: right;\n",
       "    }\n",
       "</style>\n",
       "<table border=\"1\" class=\"dataframe\">\n",
       "  <thead>\n",
       "    <tr style=\"text-align: right;\">\n",
       "      <th></th>\n",
       "      <th>text</th>\n",
       "      <th>label</th>\n",
       "    </tr>\n",
       "  </thead>\n",
       "  <tbody>\n",
       "    <tr>\n",
       "      <th>0</th>\n",
       "      <td>daniel greenfield , shillman journal fellow fr...</td>\n",
       "      <td>FAKE</td>\n",
       "    </tr>\n",
       "    <tr>\n",
       "      <th>1</th>\n",
       "      <td>googl pinterest digg linkedin reddit stumbleup...</td>\n",
       "      <td>FAKE</td>\n",
       "    </tr>\n",
       "    <tr>\n",
       "      <th>2</th>\n",
       "      <td>u.s. secretari state john f. kerri said monday...</td>\n",
       "      <td>REAL</td>\n",
       "    </tr>\n",
       "    <tr>\n",
       "      <th>3</th>\n",
       "      <td>— kayde king ( @ kaydeek ) novemb 9 , 2016 the...</td>\n",
       "      <td>FAKE</td>\n",
       "    </tr>\n",
       "    <tr>\n",
       "      <th>4</th>\n",
       "      <td>it 's primari day new york front-runn hillari ...</td>\n",
       "      <td>REAL</td>\n",
       "    </tr>\n",
       "  </tbody>\n",
       "</table>\n",
       "</div>"
      ],
      "text/plain": [
       "                                                text label\n",
       "0  daniel greenfield , shillman journal fellow fr...  FAKE\n",
       "1  googl pinterest digg linkedin reddit stumbleup...  FAKE\n",
       "2  u.s. secretari state john f. kerri said monday...  REAL\n",
       "3  — kayde king ( @ kaydeek ) novemb 9 , 2016 the...  FAKE\n",
       "4  it 's primari day new york front-runn hillari ...  REAL"
      ]
     },
     "execution_count": 13,
     "metadata": {},
     "output_type": "execute_result"
    }
   ],
   "source": [
    "clean_df = baseline_df.copy()\n",
    "\n",
    "stop_words = set(nltk.corpus.stopwords.words(\"english\"))\n",
    "stemmer = nltk.stem.snowball.SnowballStemmer(\"english\")\n",
    "\n",
    "for i in range(len(clean_df)):\n",
    "    # Extract the text from every row\n",
    "    string = clean_df['text'].at[i]\n",
    "    # Tokenise the string\n",
    "    tokens = nltk.tokenize.word_tokenize(string)\n",
    "    # Remove stopwords from the tokens\n",
    "    tokens = [word for word in tokens if word not in stop_words]\n",
    "    # Apply stemming to the tokens answer\n",
    "    tokens = [stemmer.stem(word) for word in tokens]\n",
    "    # Replace original text with cleaned text\n",
    "    clean_df.at[i, 'text'] = ' '.join(tokens)\n",
    "    \n",
    "clean_df.head()"
   ]
  },
  {
   "cell_type": "markdown",
   "id": "c693bc29-c245-43b7-831d-48cf0599e74c",
   "metadata": {},
   "source": [
    "Check for any NA values"
   ]
  },
  {
   "cell_type": "code",
   "execution_count": 14,
   "id": "27e3f3da-2444-4dd4-8d7f-563928b0e92c",
   "metadata": {},
   "outputs": [
    {
     "data": {
      "text/plain": [
       "text     0\n",
       "label    0\n",
       "dtype: int64"
      ]
     },
     "execution_count": 14,
     "metadata": {},
     "output_type": "execute_result"
    }
   ],
   "source": [
    "clean_df.isna().sum()  "
   ]
  },
  {
   "cell_type": "markdown",
   "id": "bf7d1622-5703-487a-b6b3-7b9b8dc77610",
   "metadata": {},
   "source": [
    "Now that our cleaned dataset is prepared and ready for the further processing, we will also save this locally to save time."
   ]
  },
  {
   "cell_type": "code",
   "execution_count": 15,
   "id": "cd93b9c0-f290-40b3-bd07-283256dce488",
   "metadata": {},
   "outputs": [],
   "source": [
    "clean_df.to_csv(\"clean_news.csv\", sep=',', index=False, encoding='utf-8')"
   ]
  },
  {
   "cell_type": "markdown",
   "id": "23220130-1f10-4f1b-8273-6aa41e6404cb",
   "metadata": {},
   "source": [
    "As we did for the baseline dataset, we will verify the local copy with the cleaned dataset"
   ]
  },
  {
   "cell_type": "code",
   "execution_count": 16,
   "id": "b68bd997-884d-4c79-889b-b35b716425af",
   "metadata": {
    "scrolled": true
   },
   "outputs": [
    {
     "data": {
      "text/html": [
       "<div>\n",
       "<style scoped>\n",
       "    .dataframe tbody tr th:only-of-type {\n",
       "        vertical-align: middle;\n",
       "    }\n",
       "\n",
       "    .dataframe tbody tr th {\n",
       "        vertical-align: top;\n",
       "    }\n",
       "\n",
       "    .dataframe thead th {\n",
       "        text-align: right;\n",
       "    }\n",
       "</style>\n",
       "<table border=\"1\" class=\"dataframe\">\n",
       "  <thead>\n",
       "    <tr style=\"text-align: right;\">\n",
       "      <th></th>\n",
       "      <th>text</th>\n",
       "      <th>label</th>\n",
       "    </tr>\n",
       "  </thead>\n",
       "  <tbody>\n",
       "    <tr>\n",
       "      <th>0</th>\n",
       "      <td>daniel greenfield , shillman journal fellow fr...</td>\n",
       "      <td>FAKE</td>\n",
       "    </tr>\n",
       "    <tr>\n",
       "      <th>1</th>\n",
       "      <td>googl pinterest digg linkedin reddit stumbleup...</td>\n",
       "      <td>FAKE</td>\n",
       "    </tr>\n",
       "    <tr>\n",
       "      <th>2</th>\n",
       "      <td>u.s. secretari state john f. kerri said monday...</td>\n",
       "      <td>REAL</td>\n",
       "    </tr>\n",
       "    <tr>\n",
       "      <th>3</th>\n",
       "      <td>— kayde king ( @ kaydeek ) novemb 9 , 2016 the...</td>\n",
       "      <td>FAKE</td>\n",
       "    </tr>\n",
       "    <tr>\n",
       "      <th>4</th>\n",
       "      <td>it 's primari day new york front-runn hillari ...</td>\n",
       "      <td>REAL</td>\n",
       "    </tr>\n",
       "  </tbody>\n",
       "</table>\n",
       "</div>"
      ],
      "text/plain": [
       "                                                text label\n",
       "0  daniel greenfield , shillman journal fellow fr...  FAKE\n",
       "1  googl pinterest digg linkedin reddit stumbleup...  FAKE\n",
       "2  u.s. secretari state john f. kerri said monday...  REAL\n",
       "3  — kayde king ( @ kaydeek ) novemb 9 , 2016 the...  FAKE\n",
       "4  it 's primari day new york front-runn hillari ...  REAL"
      ]
     },
     "execution_count": 16,
     "metadata": {},
     "output_type": "execute_result"
    }
   ],
   "source": [
    "clean_df=pd.read_csv('clean_news.csv')\n",
    "clean_df = clean_df.astype(str)\n",
    "clean_df.head()"
   ]
  },
  {
   "cell_type": "code",
   "execution_count": 17,
   "id": "73d7f71a-66cd-4c82-8320-71e801f92dd3",
   "metadata": {},
   "outputs": [
    {
     "data": {
      "text/plain": [
       "(6335, 2)"
      ]
     },
     "execution_count": 17,
     "metadata": {},
     "output_type": "execute_result"
    }
   ],
   "source": [
    "clean_df.shape"
   ]
  },
  {
   "cell_type": "code",
   "execution_count": 18,
   "id": "bc7a360a-c48b-4dec-b9d5-52d2c4b798cb",
   "metadata": {},
   "outputs": [
    {
     "data": {
      "text/plain": [
       "label\n",
       "REAL    3171\n",
       "FAKE    3164\n",
       "Name: count, dtype: int64"
      ]
     },
     "execution_count": 18,
     "metadata": {},
     "output_type": "execute_result"
    }
   ],
   "source": [
    "clean_df.label.value_counts()"
   ]
  },
  {
   "cell_type": "markdown",
   "id": "6d009497-19ea-455e-99c2-920b57a70eb0",
   "metadata": {},
   "source": [
    "Perfect, the local cleaned dataset is the same as our cleaned dataset."
   ]
  },
  {
   "cell_type": "markdown",
   "id": "a5b9e088-cecf-4a60-b549-f9131c2258b5",
   "metadata": {},
   "source": [
    "As mentioned in the report, the purpose of this is to compare the results to see if incorporating stemming and stop words removal will impact the accuracy of our models."
   ]
  },
  {
   "cell_type": "markdown",
   "id": "5d4473fa-b4d0-4285-9067-b43d1edc4b7b",
   "metadata": {},
   "source": [
    "# Feature Extraction Stage"
   ]
  },
  {
   "cell_type": "markdown",
   "id": "776ea854-ef82-4aba-9777-a109c4d999e9",
   "metadata": {},
   "source": [
    "In this feature prototype 3 we will be implementing TF-IDF, N-Gram feature extraction methods for SVM and Logistic Regression respectively."
   ]
  },
  {
   "cell_type": "markdown",
   "id": "72a60e23-43d7-4e4c-a452-e0790be4c7f2",
   "metadata": {},
   "source": [
    "Dataset will be splitted into training set and test set at the ratio of 8:2, random state will be set at 7 to ensure same dataset split across every training to eliminate variables."
   ]
  },
  {
   "cell_type": "markdown",
   "id": "059e1117-29d9-4a3c-afcb-06c111db6096",
   "metadata": {},
   "source": [
    "I will be creating helper functions for each feature extraction methods to reduce code repetition and improve readability."
   ]
  },
  {
   "cell_type": "markdown",
   "id": "056ab1b7-a0e7-4e04-af4b-95dd1d23f785",
   "metadata": {},
   "source": [
    "## TF-IDF Feature Extraction"
   ]
  },
  {
   "cell_type": "code",
   "execution_count": 19,
   "id": "437b1444-0991-487e-84cc-b6fd463a1019",
   "metadata": {},
   "outputs": [],
   "source": [
    "# Helper functions that extract TF-IDF feature and return its vectorized form.\n",
    "def featureExtract_TFIDF(data):\n",
    "    # Split the data into training and testing sets\n",
    "    x_train, x_test, y_train, y_test = train_test_split(data['text'], data['label'], test_size=0.2, random_state=7)\n",
    "\n",
    "    #Initialize the vectorizer (Currently without hyperparameter)\n",
    "    vectorizer = TfidfVectorizer()\n",
    "\n",
    "    # Transform the training and testing text data into TFIDF features\n",
    "    tfidf_train = vectorizer.fit_transform(x_train) \n",
    "    tfidf_test = vectorizer.transform(x_test)\n",
    "    \n",
    "    return tfidf_train, tfidf_test, y_train, y_test"
   ]
  },
  {
   "cell_type": "markdown",
   "id": "432215f3-c9d6-4ac1-b39b-bf79299d3c36",
   "metadata": {},
   "source": [
    "## N-Grams Feature Extraction"
   ]
  },
  {
   "cell_type": "code",
   "execution_count": 20,
   "id": "1f38dd8f-5265-49b3-aa50-f2c02654c090",
   "metadata": {},
   "outputs": [],
   "source": [
    "# Helper functions that extract N-Gram feature and return its vectorized form.\n",
    "def featureExtract_Ngram(data, n):\n",
    "    # Split the data into training and testing sets\n",
    "    x_train, x_test, y_train, y_test = train_test_split(data['text'], data['label'], test_size=0.2, random_state=7)\n",
    "\n",
    "    # Initialize the CountVectorizer\n",
    "    vectorizer = CountVectorizer(ngram_range=(1, n))\n",
    "\n",
    "    # Transform the training and testing text data into N-Gram features\n",
    "    ngram_train = vectorizer.fit_transform(x_train) \n",
    "    ngram_test = vectorizer.transform(x_test) \n",
    "    \n",
    "    return ngram_train, ngram_test, y_train, y_test"
   ]
  },
  {
   "cell_type": "markdown",
   "id": "df9861a3-4846-4c4d-8c1a-838a7b19cd3e",
   "metadata": {},
   "source": [
    "# Model Training Stage and Evaluation Stage"
   ]
  },
  {
   "cell_type": "markdown",
   "id": "f30e96c4-3083-4d7d-a5ec-d943a386e104",
   "metadata": {},
   "source": [
    "Model Training Stage and Evaluation Stage has been categorized into a single stage due to the pipeline that we will be developing below."
   ]
  },
  {
   "cell_type": "code",
   "execution_count": 21,
   "id": "a10af3d4-3bb6-4749-9e28-2db06a33b2fa",
   "metadata": {},
   "outputs": [],
   "source": [
    "# Helper Functions to extract the various evaluation metrics into a dictionary.\n",
    "# All forms of matrix should be extracted here as they are unavailable once it exits the pipeline\n",
    "\n",
    "def scoresToDict(y_test, y_pred, y_pred_probaility, model):\n",
    "    fpr , tpr, _ =  roc_curve(y_test, y_pred_probaility, pos_label=\"REAL\")\n",
    "    scores = {\n",
    "    'Model': model,\n",
    "    'Accuracy': round(accuracy_score(y_test,y_pred)*100,2),\n",
    "    'Precision': round(precision_score(y_test, y_pred, pos_label='REAL')*100,2),\n",
    "    'Recall' : round(recall_score(y_test, y_pred, pos_label='REAL')*100,2),\n",
    "    'F1' : round(f1_score(y_test, y_pred, pos_label='REAL')*100,2),\n",
    "    'ROC' : round(roc_auc_score(y_test, y_pred_probaility)*100,2),\n",
    "    'CM' : confusion_matrix(y_test, y_pred),\n",
    "    'Curve' : (fpr , tpr),\n",
    "    }\n",
    "    return scores"
   ]
  },
  {
   "cell_type": "code",
   "execution_count": 22,
   "id": "e1dd7d8e-8f10-4f44-9bcc-990cb0a3d968",
   "metadata": {},
   "outputs": [],
   "source": [
    "# Customer pipeline that encapsulates the process from feature extraction to \n",
    "# model training and finally to extraction of various evaluation metrics.\n",
    "def pipeline(data, model, n=2):\n",
    "    # Base on the input, apply the appropriate feature extraction methods and data set splits\n",
    "    x_train = x_test = y_train = y_test = None\n",
    "    # Initialise the model based on input model and obtain the feature that we paired with from the dataset.\n",
    "    classifier = None\n",
    "    if model == 'LR':\n",
    "        classifier = LogisticRegression(max_iter=1000)\n",
    "        x_train, x_test, y_train, y_test = featureExtract_Ngram(data, n=n)\n",
    "    elif model == 'SVM':\n",
    "        classifier = svm.SVC(probability=True)\n",
    "        x_train, x_test, y_train, y_test = featureExtract_TFIDF(data)\n",
    "    elif model == None:\n",
    "        print(\"Error, model not found!\")\n",
    "\n",
    "    # Fit the data set to the model.\n",
    "    classifier.fit(x_train, y_train)\n",
    "    # Predict the results.kik\n",
    "    y_pred = classifier.predict(x_test)\n",
    "    # Predict the probability for ROC plotting.\n",
    "    y_pred_probability = classifier.predict_proba(x_test)[:, 1]\n",
    "    \n",
    "    # Save the various evaluation metrics to a dictionary.\n",
    "    scoresDict = scoresToDict(y_test, y_pred, y_pred_probability, model=model)\n",
    "    \n",
    "    return scoresDict"
   ]
  },
  {
   "cell_type": "markdown",
   "id": "df13b682-4bbc-4507-93ac-e7e05d250928",
   "metadata": {},
   "source": [
    "By having this custom data pipeline, we simple have to indicate the data and the model and the pipeline will return the result in the form of a dictionary."
   ]
  },
  {
   "cell_type": "markdown",
   "id": "03ac1809-4974-4c55-b9da-55eaf0b4351e",
   "metadata": {},
   "source": [
    "Refer below for the visualization of the structure of the process."
   ]
  },
  {
   "cell_type": "markdown",
   "id": "cd3ef593-40b3-454b-b96e-89362dc55369",
   "metadata": {},
   "source": [
    "![Process](Process3.png) "
   ]
  },
  {
   "cell_type": "markdown",
   "id": "b574a075-7572-4439-89ca-e28f82f6fa88",
   "metadata": {},
   "source": [
    "## Fine tuning of Model and Features"
   ]
  },
  {
   "cell_type": "markdown",
   "id": "b24bcbaa-911e-4ca6-a087-68d0ea3469e4",
   "metadata": {},
   "source": [
    "The difference between feature prototype 2 and 3 is that in 3 each of our model have a fixed feature extraction methods paired with it.</br>\n",
    "Hence the removal of getScores as there is no need to \"compile\" the scores of different models for each feature extraction methods.\n",
    "\n",
    "Instead of grouping the results by feature extraction methods, I will be grouping the results by models."
   ]
  },
  {
   "cell_type": "markdown",
   "id": "7583e90c-46fa-448b-bd7a-2739396e2f2b",
   "metadata": {},
   "source": [
    "### Logistic Regression"
   ]
  },
  {
   "cell_type": "markdown",
   "id": "d81e7c20-f382-42d4-98dc-8649265d1422",
   "metadata": {},
   "source": [
    "For logistic regression we will be fine tuning the N values of ngram from 2 to 5 to identify the best N values as well as identifying the best max_iter and other hyperparameters of the model."
   ]
  },
  {
   "cell_type": "markdown",
   "id": "7fb1259c-cc3c-483e-a5f5-5a5f019a0c0f",
   "metadata": {},
   "source": [
    "#### Identifying the best N value"
   ]
  },
  {
   "cell_type": "markdown",
   "id": "346d4b48-eedd-42a5-94c1-64e16dcec829",
   "metadata": {},
   "source": [
    "Using baseline dataset:"
   ]
  },
  {
   "cell_type": "code",
   "execution_count": 26,
   "id": "6279f669-90df-4335-accb-e46bdf4ba28f",
   "metadata": {},
   "outputs": [],
   "source": [
    "# Do note that since we are running multiple pipelines in one function. Do expect some delays especially on remote, virtual or older devices.\n",
    "# Estimated wait time to be 5-10 mins\n",
    "\n",
    "# Initialize the list that will store our data as we implement from N=2 to 5\n",
    "base_results_LR_lists = []\n",
    "\n",
    "# Using baseline dataset\n",
    "base_results_LR_2 = pipeline(baseline_df, \"LR\", n=2)\n",
    "# Removing the last 2 item from our base_results_SVM as it contains Confusion Matrix and ROC Curve values that a dataframe does not take as input.\n",
    "base_results_LR_2_scores = dict([('N', 2),('Dataset', 'Baseline')] + list(base_results_LR_2.items())[:-2])\n",
    "base_results_LR_lists.append(base_results_LR_2_scores)"
   ]
  },
  {
   "cell_type": "code",
   "execution_count": 28,
   "id": "2a1e9405-23d9-4991-ac4f-e92a022724b4",
   "metadata": {},
   "outputs": [],
   "source": [
    "# Using baseline dataset\n",
    "base_results_LR_3= pipeline(baseline_df, \"LR\", n=3)\n",
    "# Removing the last 2 item from our base_results_SVM as it contains Confusion Matrix and ROC Curve values that a dataframe does not take as input.\n",
    "base_results_LR_3_scores = dict([('N', 3),('Dataset', 'Baseline')] + list(base_results_LR_3.items())[:-2])\n",
    "base_results_LR_lists.append(base_results_LR_3_scores)"
   ]
  },
  {
   "cell_type": "code",
   "execution_count": 30,
   "id": "5399e11f-99c4-4d85-95ea-e61d5f7db4c4",
   "metadata": {},
   "outputs": [],
   "source": [
    "# Using baseline dataset\n",
    "base_results_LR_4= pipeline(baseline_df, \"LR\", n=4)\n",
    "# Removing the last 2 item from our base_results_SVM as it contains Confusion Matrix and ROC Curve values that a dataframe does not take as input.\n",
    "base_results_LR_4_scores = dict([('N', 4),('Dataset', 'Baseline')] + list(base_results_LR_4.items())[:-2])\n",
    "base_results_LR_lists.append(base_results_LR_4_scores)"
   ]
  },
  {
   "cell_type": "code",
   "execution_count": 31,
   "id": "285dd8bc-e4d0-4563-9ad8-c8ebea5dc4be",
   "metadata": {},
   "outputs": [],
   "source": [
    "# Using baseline dataset\n",
    "base_results_LR_5= pipeline(baseline_df, \"LR\", n=5)\n",
    "# Removing the last 2 item from our base_results_SVM as it contains Confusion Matrix and ROC Curve values that a dataframe does not take as input.\n",
    "base_results_LR_5_scores = dict([('N', 5),('Dataset', 'Baseline')] + list(base_results_LR_5.items())[:-2])\n",
    "base_results_LR_lists.append(base_results_LR_5_scores)"
   ]
  },
  {
   "cell_type": "markdown",
   "id": "29448816-c51d-4004-a2ff-5f9eaecfe4f8",
   "metadata": {},
   "source": [
    "Using clean dataset:"
   ]
  },
  {
   "cell_type": "code",
   "execution_count": 34,
   "id": "49d90218-33af-4226-9183-21b6d8d6e14e",
   "metadata": {},
   "outputs": [],
   "source": [
    "# Do note that since we are running multiple pipelines in one function. Do expect some delays especially on remote, virtual or older devices.\n",
    "# Estimated wait time to be 5-10 mins\n",
    "\n",
    "# Initialize the list that will store our data as we implement from N=2 to 5\n",
    "clean_results_LR_lists = []\n",
    "\n",
    "# Using baseline dataset\n",
    "clean_results_LR_2 = pipeline(clean_df, \"LR\", n=2)\n",
    "# Removing the last 2 item from our base_results_SVM as it contains Confusion Matrix and ROC Curve values that a dataframe does not take as input.\n",
    "clean_results_LR_2_scores = dict([('N', 2),('Dataset', 'Clean')] + list(clean_results_LR_2.items())[:-2])\n",
    "clean_results_LR_lists.append(clean_results_LR_2_scores)"
   ]
  },
  {
   "cell_type": "code",
   "execution_count": 35,
   "id": "6db5681d-b4a6-40ef-a7cd-4abf985be52a",
   "metadata": {},
   "outputs": [],
   "source": [
    "clean_results_LR_3 = pipeline(clean_df, \"LR\", n=3)\n",
    "# Removing the last 2 item from our base_results_SVM as it contains Confusion Matrix and ROC Curve values that a dataframe does not take as input.\n",
    "clean_results_LR_3_scores = dict([('N', 3),('Dataset', 'Clean')] + list(clean_results_LR_3.items())[:-2])\n",
    "clean_results_LR_lists.append(clean_results_LR_3_scores)"
   ]
  },
  {
   "cell_type": "code",
   "execution_count": 36,
   "id": "56da35e8-d5b1-4c67-8b7f-c0cd3e30f8fb",
   "metadata": {},
   "outputs": [],
   "source": [
    "clean_results_LR_4 = pipeline(clean_df, \"LR\", n=4)\n",
    "# Removing the last 2 item from our base_results_SVM as it contains Confusion Matrix and ROC Curve values that a dataframe does not take as input.\n",
    "clean_results_LR_4_scores = dict([('N', 4),('Dataset', 'Clean')] + list(clean_results_LR_4.items())[:-2])\n",
    "clean_results_LR_lists.append(clean_results_LR_4_scores)"
   ]
  },
  {
   "cell_type": "code",
   "execution_count": 37,
   "id": "9bc891a5-63b3-467b-9835-570d6923c1d2",
   "metadata": {},
   "outputs": [],
   "source": [
    "clean_results_LR_5 = pipeline(clean_df, \"LR\", n=5)\n",
    "# Removing the last 2 item from our base_results_SVM as it contains Confusion Matrix and ROC Curve values that a dataframe does not take as input.\n",
    "clean_results_LR_5_scores = dict([('N', 5),('Dataset', 'Clean')] + list(clean_results_LR_5.items())[:-2])\n",
    "clean_results_LR_lists.append(clean_results_LR_5_scores)"
   ]
  },
  {
   "cell_type": "markdown",
   "id": "09472ec7-0240-44c2-973a-deaf3dc8465b",
   "metadata": {},
   "source": [
    "We will compile and compare how logistic regression performed for n=2 to 5 on each dataset."
   ]
  },
  {
   "cell_type": "code",
   "execution_count": 41,
   "id": "52adf6b7-4599-4478-8022-4419c8fffa2a",
   "metadata": {},
   "outputs": [
    {
     "name": "stdout",
     "output_type": "stream",
     "text": [
      "Results of Logistic Regression trained on Clean Dataset and N-Gram (N=2 to 5).\n",
      " N  Dataset Model  Accuracy  Precision  Recall    F1   ROC\n",
      " 2 Baseline    LR     92.11      92.87   91.10 91.97 97.34\n",
      " 3 Baseline    LR     92.19      93.73   90.30 91.98 97.43\n",
      " 4 Baseline    LR     91.71      93.38   89.67 91.48 97.40\n",
      " 5 Baseline    LR     91.71      93.52   89.51 91.47 97.37\n",
      "\n",
      "Results of Logistic Regression trained on Clean Dataset and N-Gram (N=2 to 5).\n",
      " N Dataset Model  Accuracy  Precision  Recall    F1   ROC\n",
      " 2   Clean    LR     92.50      93.06   91.73 92.39 97.16\n",
      " 3   Clean    LR     92.03      93.14   90.62 91.86 97.21\n",
      " 4   Clean    LR     91.55      93.07   89.67 91.34 97.20\n",
      " 5   Clean    LR     91.32      93.03   89.19 91.07 97.17\n"
     ]
    }
   ],
   "source": [
    "# Compile the scores .\n",
    "base_LR_compiled = {}\n",
    "\n",
    "for key in base_results_LR_lists[0].keys():\n",
    "    base_LR_compiled[key] = [result[key] for result in base_results_LR_lists]\n",
    "    \n",
    "# Convert results to dataframe    \n",
    "base_LR_compiled = pd.DataFrame(base_LR_compiled)\n",
    "\n",
    "# Print the results\n",
    "print(\"Results of Logistic Regression trained on Clean Dataset and N-Gram (N=2 to 5).\")\n",
    "print(base_LR_compiled.to_string(index=False))\n",
    "\n",
    "print(\"\")\n",
    "\n",
    "# Compile scores from both dataset.\n",
    "clean_LR_compiled = {}\n",
    "\n",
    "for key in clean_results_LR_lists[0].keys():\n",
    "    clean_LR_compiled[key] = [result[key] for result in clean_results_LR_lists]\n",
    "    \n",
    "# Convert results to dataframe    \n",
    "clean_LR_compiled = pd.DataFrame(clean_LR_compiled)\n",
    "\n",
    "# Print the results\n",
    "print(\"Results of Logistic Regression trained on Clean Dataset and N-Gram (N=2 to 5).\")\n",
    "print(clean_LR_compiled.to_string(index=False))"
   ]
  },
  {
   "cell_type": "markdown",
   "id": "68317541-5ed1-4840-ab99-93b07507cd00",
   "metadata": {},
   "source": [
    "We have identified that logistic regression scored the highest with N=2 on cleaned dataset, these variables will be used when we move on to fine tune other factors here on.\n",
    "\n",
    "\n",
    "The model performed the best on baseline dataset when N=3 instead, I believe this maybe due to the removal of stop words has increased the importance of every word as compared to baseline dataset where there are more \"noise\" where a bigger window helped with its classification."
   ]
  },
  {
   "cell_type": "markdown",
   "id": "5c4bc58d-5dff-4e2b-84ab-c52ed4140460",
   "metadata": {},
   "source": [
    "#### Identifying the ideal hyperparameters for logistic regression model"
   ]
  },
  {
   "cell_type": "markdown",
   "id": "7e135cf4-793e-490b-8ce3-831803d45bb7",
   "metadata": {},
   "source": [
    "Moving forward we will adjust the max_iteration and perform a grid search to find the ideal hyperparameters\n",
    "\n",
    "We will start tuning max_iter from 200, 500, 1000, 2000, 5000 first to see whats the performance. </br>\n",
    "(max_iter of 100 is too low for lbfgs (default) solver hence has been set to 200)"
   ]
  },
  {
   "cell_type": "code",
   "execution_count": 79,
   "id": "e1bc82bd-5a8e-468a-a617-3da2f2f544a7",
   "metadata": {},
   "outputs": [],
   "source": [
    "# Initialize a list to store all the results\n",
    "LR_results_list = []\n",
    "\n",
    "# Split the dataset\n",
    "x_train, x_test, y_train, y_test = featureExtract_Ngram(clean_df, n=2)\n",
    "\n",
    "# Initialize the model\n",
    "log_reg_200 = LogisticRegression(max_iter=200)\n",
    "# Fit the data set to the model.\n",
    "log_reg_200.fit(x_train, y_train)\n",
    "# Predict the results.kik\n",
    "log_reg_200_y_pred = log_reg_200.predict(x_test)\n",
    "# Predict the probability for ROC plotting.\n",
    "log_reg_200_y_pred_probability = log_reg_200.predict_proba(x_test)[:, 1]\n",
    "\n",
    "# Save the various evaluation metrics to a dictionary.\n",
    "log_reg_200_scores = scoresToDict(y_test, log_reg_200_y_pred, log_reg_200_y_pred_probability, model=\"LR\")\n",
    "log_reg_200_scores = dict([('Max_Iter', 200)] + list(log_reg_200_scores.items())[:-2])\n",
    "LR_results_list.append(log_reg_200_scores)"
   ]
  },
  {
   "cell_type": "code",
   "execution_count": 80,
   "id": "eaf290e3-9e77-48d6-9976-501cc8150620",
   "metadata": {},
   "outputs": [],
   "source": [
    "# Initialize the model\n",
    "log_reg_500 = LogisticRegression(max_iter=500)\n",
    "# Fit the data set to the model.\n",
    "log_reg_500.fit(x_train, y_train)\n",
    "# Predict the results.kik\n",
    "log_reg_500_y_pred = log_reg_500.predict(x_test)\n",
    "# Predict the probability for ROC plotting.\n",
    "log_reg_500_y_pred_probability = log_reg_500.predict_proba(x_test)[:, 1]\n",
    "\n",
    "# Save the various evaluation metrics to a dictionary.\n",
    "log_reg_500_scores = scoresToDict(y_test, log_reg_500_y_pred, log_reg_500_y_pred_probability, model=\"LR\")\n",
    "log_reg_500_scores = dict([('Max_Iter', 500)] + list(log_reg_500_scores.items())[:-2])\n",
    "LR_results_list.append(log_reg_500_scores)"
   ]
  },
  {
   "cell_type": "code",
   "execution_count": 81,
   "id": "f4047a41-de4a-4709-9b11-24771d2e19fc",
   "metadata": {},
   "outputs": [],
   "source": [
    "log_reg_1000 = LogisticRegression(max_iter=1000)\n",
    "# Fit the data set to the model.\n",
    "log_reg_1000.fit(x_train, y_train)\n",
    "# Predict the results.kik\n",
    "log_reg_1000_y_pred = log_reg_1000.predict(x_test)\n",
    "# Predict the probability for ROC plotting.\n",
    "log_reg_1000_y_pred_probability = log_reg_1000.predict_proba(x_test)[:, 1]\n",
    "\n",
    "# Save the various evaluation metrics to a dictionary.\n",
    "log_reg_1000_scores = scoresToDict(y_test, log_reg_1000_y_pred, log_reg_1000_y_pred_probability, model=\"LR\")\n",
    "log_reg_1000_scores = dict([('Max_Iter', 1000)] + list(log_reg_1000_scores.items())[:-2])\n",
    "LR_results_list.append(log_reg_1000_scores)"
   ]
  },
  {
   "cell_type": "code",
   "execution_count": 82,
   "id": "f568e722-6b2f-456b-9ef1-0530f5eb7da3",
   "metadata": {},
   "outputs": [],
   "source": [
    "log_reg_2000 = LogisticRegression(max_iter=2000)\n",
    "# Fit the data set to the model.\n",
    "log_reg_2000.fit(x_train, y_train)\n",
    "# Predict the results.kik\n",
    "log_reg_2000_y_pred = log_reg_2000.predict(x_test)\n",
    "# Predict the probability for ROC plotting.\n",
    "log_reg_2000_y_pred_probability = log_reg_2000.predict_proba(x_test)[:, 1]\n",
    "\n",
    "# Save the various evaluation metrics to a dictionary.\n",
    "log_reg_2000_scores = scoresToDict(y_test, log_reg_2000_y_pred, log_reg_2000_y_pred_probability, model=\"LR\")\n",
    "log_reg_2000_scores = dict([('Max_Iter', 2000)] + list(log_reg_2000_scores.items())[:-2])\n",
    "LR_results_list.append(log_reg_2000_scores)"
   ]
  },
  {
   "cell_type": "code",
   "execution_count": 83,
   "id": "440bad8d-c5d1-43d7-8f37-f90b7c9756fc",
   "metadata": {},
   "outputs": [],
   "source": [
    "log_reg_5000 = LogisticRegression(max_iter=5000)\n",
    "# Fit the data set to the model.\n",
    "log_reg_5000.fit(x_train, y_train)\n",
    "# Predict the results.kik\n",
    "log_reg_5000_y_pred = log_reg_5000.predict(x_test)\n",
    "# Predict the probability for ROC plotting.\n",
    "log_reg_5000_y_pred_probability = log_reg_5000.predict_proba(x_test)[:, 1]\n",
    "\n",
    "# Save the various evaluation metrics to a dictionary.\n",
    "log_reg_5000_scores = scoresToDict(y_test, log_reg_5000_y_pred, log_reg_5000_y_pred_probability, model=\"LR\")\n",
    "log_reg_5000_scores = dict([('Max_Iter', 5000)] + list(log_reg_5000_scores.items())[:-2])\n",
    "LR_results_list.append(log_reg_5000_scores)"
   ]
  },
  {
   "cell_type": "code",
   "execution_count": 84,
   "id": "c309aa0a-ec09-4dae-b4d2-6585e7330f07",
   "metadata": {},
   "outputs": [
    {
     "name": "stdout",
     "output_type": "stream",
     "text": [
      "Results of Logistic Regression trained on Clean Dataset and N-Gram (N=2 to 5).\n",
      " Max_Iter Model  Accuracy  Precision  Recall    F1   ROC\n",
      "      200    LR      92.5      93.06   91.73 92.39 97.16\n",
      "      500    LR      92.5      93.06   91.73 92.39 97.16\n",
      "     1000    LR      92.5      93.06   91.73 92.39 97.16\n",
      "     2000    LR      92.5      93.06   91.73 92.39 97.16\n",
      "     5000    LR      92.5      93.06   91.73 92.39 97.16\n"
     ]
    }
   ],
   "source": [
    "LR_results = {}\n",
    "for key in LR_results_list[0].keys():\n",
    "    LR_results[key] = [result[key] for result in LR_results_list]\n",
    "    \n",
    "# Convert results to dataframe    \n",
    "LR_results = pd.DataFrame(LR_results)\n",
    "\n",
    "# Print the results\n",
    "print(\"Results of Logistic Regression trained on Clean Dataset and N-Gram (N=2).\")\n",
    "print(LR_results.to_string(index=False))"
   ]
  },
  {
   "cell_type": "markdown",
   "id": "3d1a8d6f-0d6c-46cd-9c49-844f98cceff3",
   "metadata": {},
   "source": [
    "It seems like max_iter does not affect our performance, hence we will stick to using max_iter=1000."
   ]
  },
  {
   "cell_type": "markdown",
   "id": "174abbb7-4e56-443f-aff3-fb32310e4a6f",
   "metadata": {},
   "source": [
    "Next we will perform a gridsearch to identify the best parameters for the logistic regression model.\n",
    "I have decided to use additional solver liblinear as it is good for small datasets."
   ]
  },
  {
   "cell_type": "code",
   "execution_count": 88,
   "id": "b43ec738-7812-4c04-acb4-b6a4acda1792",
   "metadata": {},
   "outputs": [
    {
     "name": "stderr",
     "output_type": "stream",
     "text": [
      "C:\\Users\\Amos\\anaconda3\\lib\\site-packages\\sklearn\\model_selection\\_validation.py:425: FitFailedWarning: \n",
      "30 fits failed out of a total of 120.\n",
      "The score on these train-test partitions for these parameters will be set to nan.\n",
      "If these failures are not expected, you can try to debug them by setting error_score='raise'.\n",
      "\n",
      "Below are more details about the failures:\n",
      "--------------------------------------------------------------------------------\n",
      "30 fits failed with the following error:\n",
      "Traceback (most recent call last):\n",
      "  File \"C:\\Users\\Amos\\anaconda3\\lib\\site-packages\\sklearn\\model_selection\\_validation.py\", line 729, in _fit_and_score\n",
      "    estimator.fit(X_train, y_train, **fit_params)\n",
      "  File \"C:\\Users\\Amos\\anaconda3\\lib\\site-packages\\sklearn\\base.py\", line 1152, in wrapper\n",
      "    return fit_method(estimator, *args, **kwargs)\n",
      "  File \"C:\\Users\\Amos\\anaconda3\\lib\\site-packages\\sklearn\\linear_model\\_logistic.py\", line 1169, in fit\n",
      "    solver = _check_solver(self.solver, self.penalty, self.dual)\n",
      "  File \"C:\\Users\\Amos\\anaconda3\\lib\\site-packages\\sklearn\\linear_model\\_logistic.py\", line 56, in _check_solver\n",
      "    raise ValueError(\n",
      "ValueError: Solver lbfgs supports only 'l2' or 'none' penalties, got l1 penalty.\n",
      "\n",
      "  warnings.warn(some_fits_failed_message, FitFailedWarning)\n",
      "C:\\Users\\Amos\\anaconda3\\lib\\site-packages\\sklearn\\model_selection\\_search.py:979: UserWarning: One or more of the test scores are non-finite: [       nan 0.67758255 0.88082015 0.90568371        nan 0.84036948\n",
      " 0.91633771 0.92817767        nan 0.90667126 0.93172953 0.9339011\n",
      "        nan 0.9177211  0.93153346 0.9323228         nan 0.92285009\n",
      " 0.92699483 0.9273893         nan 0.92738794 0.92600747 0.91081347]\n",
      "  warnings.warn(\n"
     ]
    },
    {
     "name": "stdout",
     "output_type": "stream",
     "text": [
      "Best Hyperparameters: {'C': 0.1, 'penalty': 'l2', 'solver': 'liblinear'}\n"
     ]
    }
   ],
   "source": [
    "# Please note that running gridsearch takes about an estimate of 10-20 minutes.\n",
    "\n",
    "# Define hyperparameters to tune\n",
    "LR_param_grid = {\n",
    "    'C': [0.001, 0.01, 0.1, 1, 10, 100], \n",
    "    'penalty': ['l1', 'l2'], \n",
    "    'solver': ['lbfgs', 'liblinear']  \n",
    "}\n",
    "\n",
    "# Create Logistic Regression model\n",
    "LR = LogisticRegression(max_iter=1000)\n",
    "\n",
    "# Split the datasets\n",
    "x_train, x_test, y_train, y_test = featureExtract_Ngram(clean_df, n=2)\n",
    "\n",
    "# Perform GridSearchCV to find the best hyperparameters\n",
    "LR_grid_search = GridSearchCV(LR, LR_param_grid, cv=5, scoring='accuracy')\n",
    "LR_grid_search.fit(x_train, y_train)\n",
    "\n",
    "LR_best_params = grid_search.best_params_\n",
    "print(\"Best Hyperparameters:\", LR_best_params)"
   ]
  },
  {
   "cell_type": "markdown",
   "id": "17a8282e-70b0-4a32-a5cb-ce2fa91b0068",
   "metadata": {},
   "source": [
    "We have 30 failed fits and that is due to the grid search applying l1 penalty on lbfgs solver which is expected to fail as lbfgs does not support l1 penalties. \n",
    "\n",
    "The gridsearch has found the best parameters to be C=0.1 using solver=liblinear and penalty=l2. </br>\n",
    "We will apply this to our model and observe the performance."
   ]
  },
  {
   "cell_type": "code",
   "execution_count": 26,
   "id": "c9b04547-5d9b-4354-b97b-799c9eae8b8e",
   "metadata": {},
   "outputs": [
    {
     "name": "stdout",
     "output_type": "stream",
     "text": [
      "Model  Accuracy  Precision  Recall    F1   ROC\n",
      "   LR     92.82      93.39   92.05 92.71 97.31\n"
     ]
    }
   ],
   "source": [
    "#best_params = {'C':0.1, 'penalty': 'l2', 'solver': 'liblinear'}\n",
    "\n",
    "# Fit the model with the best parameters on the entire training set\n",
    "LR = LogisticRegression(**best_params, max_iter=1000)\n",
    "LR.fit(x_train, y_train)\n",
    "\n",
    "# Evaluate the model on the test set\n",
    "LR_y_pred = LR.predict(x_test)\n",
    "LR_y_pred_probability = LR.predict_proba(x_test)[:, 1]\n",
    "\n",
    "# Save the various evaluation metrics to a dictionary.\n",
    "LR_scores = scoresToDict(y_test, LR_y_pred, LR_y_pred_probability, model=\"LR\")\n",
    "LR_scores = dict(list(LR_scores.items())[:-2])\n",
    "LR_scores = pd.DataFrame([LR_scores], index=[0])\n",
    "print(LR_scores.to_string(index=False))"
   ]
  },
  {
   "cell_type": "markdown",
   "id": "89b526bb-ee61-4b61-87d4-3cc6d768ff9e",
   "metadata": {},
   "source": [
    "With these new parameter tuning, logistic regression has seen an improvement of 0.32% increase in performance in terms of accuracy to a final accuracy score of 92.82%."
   ]
  },
  {
   "cell_type": "markdown",
   "id": "533f576e-3727-4146-9e1e-bf68e7aeb33f",
   "metadata": {},
   "source": [
    "### SVM"
   ]
  },
  {
   "cell_type": "code",
   "execution_count": 104,
   "id": "fbdff52b-5ee6-4948-94df-b79638a17a32",
   "metadata": {},
   "outputs": [
    {
     "name": "stdout",
     "output_type": "stream",
     "text": [
      "Results of SVM trained on Baseline Dataset and TF-IDF.\n",
      "\n",
      " Dataset Model  Accuracy  Precision  Recall    F1   ROC\n",
      "Baseline   SVM     92.58      94.07   90.78 92.39 98.28\n",
      "   Clean   SVM     92.98      94.12   91.57 92.83 98.36\n"
     ]
    }
   ],
   "source": [
    "# Do note that since we are running multiple pipelines in one function. Do expect some delays especially on remote, virtual or older devices.\n",
    "# Estimated wait time to be 5-10 mins\n",
    "\n",
    "# Using baseline dataset\n",
    "base_results_SVM = pipeline(baseline_df, \"SVM\")\n",
    "# Removing the last 2 item from our base_results_SVM as it contains Confusion Matrix and ROC Curve values that a dataframe does not take as input.\n",
    "base_results_SVM_scores = dict([('Dataset', 'Baseline')] + list(base_results_SVM.items())[:-2])\n",
    "\n",
    "# Using Clean dataset\n",
    "clean_results_SVM = pipeline(clean_df, \"SVM\")\n",
    "# Removing the last 2 item from our base_results_SVM as it contains Confusion Matrix and ROC Curve values that a dataframe does not take as input.\n",
    "clean_results_SVM_scores = dict([('Dataset', 'Clean')] + list(clean_results_SVM.items())[:-2])\n",
    "\n",
    "# Compile scores from both dataset.\n",
    "SVM_results = {}\n",
    "for key in base_results_SVM_scores.keys():\n",
    "    both = [base_results_SVM_scores, clean_results_SVM_scores]\n",
    "    SVM_results[key] = [result[key] for result in both]\n",
    "    \n",
    "# Convert results to dataframe \n",
    "SVM_results = pd.DataFrame(SVM_results)\n",
    "# Print the results\n",
    "print(\"Results of SVM trained on Baseline Dataset and TF-IDF.\\n\")\n",
    "print(SVM_results.to_string(index=False))"
   ]
  },
  {
   "cell_type": "markdown",
   "id": "51081646-690a-4651-82cb-999c3c870fa9",
   "metadata": {},
   "source": [
    "Carrying forward from prototype 2, these are the scores for SVM on TFIDF with a highest accuracy score of 92.98% when trained on clean dataset. Moving forward we will be using clean dataset for the fine tuning stage of SVM"
   ]
  },
  {
   "cell_type": "markdown",
   "id": "04cc656d-b3c1-4ebf-8d17-f2040d3c3cf3",
   "metadata": {},
   "source": [
    "#### Identifying the ideal hyperparameters for TfidfVectorizer"
   ]
  },
  {
   "cell_type": "markdown",
   "id": "ba3caeab-1026-489f-874e-4101ce249c4c",
   "metadata": {},
   "source": [
    "Similar to how we identify the ideal parameters for logistic regression we will be doing the same, using grid search to find the best performing parameters for TfidfVectorizer as well as for SVM."
   ]
  },
  {
   "cell_type": "code",
   "execution_count": 58,
   "id": "922c522b-0128-4b71-98ca-2587f8165926",
   "metadata": {},
   "outputs": [
    {
     "name": "stderr",
     "output_type": "stream",
     "text": [
      "C:\\Users\\Amos\\anaconda3\\lib\\site-packages\\sklearn\\model_selection\\_validation.py:821: UserWarning: Scoring failed. The score on this train-test partition for these parameters will be set to nan. Details: \n",
      "Traceback (most recent call last):\n",
      "  File \"C:\\Users\\Amos\\anaconda3\\lib\\site-packages\\sklearn\\model_selection\\_validation.py\", line 810, in _score\n",
      "    scores = scorer(estimator, X_test, y_test)\n",
      "  File \"C:\\Users\\Amos\\anaconda3\\lib\\site-packages\\sklearn\\metrics\\_scorer.py\", line 266, in __call__\n",
      "    return self._score(partial(_cached_call, None), estimator, X, y_true, **_kwargs)\n",
      "  File \"C:\\Users\\Amos\\anaconda3\\lib\\site-packages\\sklearn\\metrics\\_scorer.py\", line 353, in _score\n",
      "    y_pred = method_caller(estimator, \"predict\", X)\n",
      "  File \"C:\\Users\\Amos\\anaconda3\\lib\\site-packages\\sklearn\\metrics\\_scorer.py\", line 86, in _cached_call\n",
      "    result, _ = _get_response_values(\n",
      "  File \"C:\\Users\\Amos\\anaconda3\\lib\\site-packages\\sklearn\\utils\\_response.py\", line 218, in _get_response_values\n",
      "    y_pred, pos_label = estimator.predict(X), None\n",
      "AttributeError: 'TfidfVectorizer' object has no attribute 'predict'\n",
      "\n",
      "  warnings.warn(\n",
      "C:\\Users\\Amos\\anaconda3\\lib\\site-packages\\sklearn\\model_selection\\_search.py:979: UserWarning: One or more of the test scores are non-finite: [nan nan nan nan nan nan nan nan nan nan nan nan nan nan nan nan nan nan\n",
      " nan nan nan nan nan nan nan nan nan]\n",
      "  warnings.warn(\n"
     ]
    },
    {
     "name": "stdout",
     "output_type": "stream",
     "text": [
      "Best Parameters: {'max_df': 0.7, 'max_features': 1000, 'min_df': 1}\n"
     ]
    }
   ],
   "source": [
    "x_train, x_test, y_train, y_test = train_test_split(clean_df['text'], clean_df['label'], test_size=0.2, random_state=7)\n",
    "\n",
    "# Define the parameter grid to search\n",
    "tfidf_param_grid = {\n",
    "    'max_features': [1000, 2000, 3000],  # Adjust as needed\n",
    "    'max_df': [0.7, 0.8, 0.9],           # Adjust as needed\n",
    "    'min_df': [1, 2, 3],                  # Adjust as needed\n",
    "}\n",
    "\n",
    "# Initialize TfidfVectorizer\n",
    "tfidf_vectorizer = TfidfVectorizer()\n",
    "\n",
    "# Initialize GridSearchCV\n",
    "tfidf_grid_search = GridSearchCV(tfidf_vectorizer, tfidf_param_grid, cv=5, scoring='accuracy')\n",
    "\n",
    "\n",
    "# Perform grid search\n",
    "tfidf_grid_search.fit(x_train, y_train)\n",
    "\n",
    "# Get the best parameters and best score\n",
    "tfidf_best_params = tfidf_grid_search.best_params_\n",
    "print(\"Best Parameters:\", tfidf_best_params)"
   ]
  },
  {
   "cell_type": "markdown",
   "id": "59c7d8df-88c3-4d8a-8b17-4adfafa081d6",
   "metadata": {},
   "source": [
    "Grid search has identified the ideal parameter of max_df=0.7, max_features=1000 and min_df=1.\n",
    "\n",
    "We can ignore the warnings as it is not expected of TfidfVectorizer to predict anything."
   ]
  },
  {
   "cell_type": "code",
   "execution_count": 26,
   "id": "742a58da-f53b-4494-8496-2ce04bbb8880",
   "metadata": {},
   "outputs": [
    {
     "name": "stdout",
     "output_type": "stream",
     "text": [
      "Best Parameters: {'C': 10, 'gamma': 'scale', 'kernel': 'rbf'}\n"
     ]
    }
   ],
   "source": [
    "#tfidf_best_params = {'max_df': 0.7, 'max_features': 1000, 'min_df': 1}\n",
    "x_train, x_test, y_train, y_test = train_test_split(clean_df['text'], clean_df['label'], test_size=0.2, random_state=7)\n",
    "\n",
    "#Initialize the vectorizer with the best parameters\n",
    "vectorizer = TfidfVectorizer(**tfidf_best_params)\n",
    "\n",
    "# Transform the training and testing text data into TFIDF features\n",
    "tfidf_train = vectorizer.fit_transform(x_train) \n",
    "tfidf_test = vectorizer.transform(x_test)\n",
    "\n",
    "SVM_param_grid = {\n",
    "    'C': [0.1, 1, 10],\n",
    "    'kernel': ['linear', 'rbf'],\n",
    "    'gamma': ['scale', 'auto']\n",
    "}\n",
    "\n",
    "SVM = svm.SVC(probability=True)\n",
    "\n",
    "SVM_grid_search = GridSearchCV(SVM, SVM_param_grid, cv=5, scoring='accuracy')\n",
    "\n",
    "SVM_grid_search.fit(tfidf_train, y_train)\n",
    "\n",
    "SVM_best_params = SVM_grid_search.best_params_\n",
    "print(\"Best Parameters:\", SVM_best_params)"
   ]
  },
  {
   "cell_type": "code",
   "execution_count": 65,
   "id": "e5e670cd-fb41-40f8-8960-39be6ea80698",
   "metadata": {},
   "outputs": [
    {
     "name": "stdout",
     "output_type": "stream",
     "text": [
      "Model  Accuracy  Precision  Recall    F1   ROC\n",
      "  SVM     92.66      92.54   92.69 92.61 97.94\n"
     ]
    }
   ],
   "source": [
    "#SVM_best_params = {'C': 10, 'gamma': 'scale', 'kernel': 'rbf'}\n",
    "\n",
    "SVM = svm.SVC(**SVM_best_params, probability=True)\n",
    "SVM.fit(tfidf_train, y_train)\n",
    "\n",
    "# Evaluate the model on the test set\n",
    "SVM_y_pred = SVM.predict(tfidf_test)\n",
    "SVM_y_pred_probability = SVM.predict_proba(tfidf_test)[:, 1]\n",
    "\n",
    "# Save the various evaluation metrics to a dictionary.\n",
    "SVM_scores = scoresToDict(y_test, SVM_y_pred, SVM_y_pred_probability, model=\"SVM\")\n",
    "SVM_scores = dict(list(SVM_scores.items())[:-2])\n",
    "SVM_scores = pd.DataFrame([SVM_scores], index=[0])\n",
    "print(SVM_scores.to_string(index=False))"
   ]
  },
  {
   "cell_type": "markdown",
   "id": "e820ab79-c827-4ef0-994b-9bf6507a054b",
   "metadata": {},
   "source": [
    "We have observed that SVM performed poorer when its trained using ideal parameters identified by grid search as compared to its pre-tuned version. This may be due to the values that grid search return was overfitting given our dataset. We will proceed with the default hyperparameters for SVM on TFIDF."
   ]
  },
  {
   "cell_type": "markdown",
   "id": "8edcf271-3c22-41fc-9322-f4d9ee08809a",
   "metadata": {},
   "source": [
    "#### In summary the best performing Models and parameters"
   ]
  },
  {
   "cell_type": "code",
   "execution_count": 24,
   "id": "081d52b6-7d9f-44e1-8814-d70711be9321",
   "metadata": {},
   "outputs": [
    {
     "name": "stdout",
     "output_type": "stream",
     "text": [
      "Results of models.\n",
      "\n",
      "Model  Accuracy  Precision  Recall    F1   ROC\n",
      "   LR     92.82      93.39   92.05 92.71 97.31\n",
      "  SVM     92.98      94.12   91.57 92.83 98.36\n"
     ]
    }
   ],
   "source": [
    "# Do note that since we are running multiple pipelines in one function. Do expect some delays especially on remote, virtual or older devices.\n",
    "# Estimated wait time to be 5-10 mins\n",
    "\n",
    "# Logistic Regression with best parameters\n",
    "LR_best_params = {'C':0.1, 'penalty': 'l2', 'solver': 'liblinear'}\n",
    "\n",
    "# Using N-gram of N=2 feature and split the dataset\n",
    "LR_x_train, LR_x_test, LR_y_train, LR_y_test = featureExtract_Ngram(clean_df, n=2)\n",
    "\n",
    "# Fit the model with the best parameters on the entire training set\n",
    "LR = LogisticRegression(**LR_best_params, max_iter=1000)\n",
    "LR.fit(LR_x_train, LR_y_train)\n",
    "\n",
    "# Evaluate the model on the test set\n",
    "LR_y_pred = LR.predict(LR_x_test)\n",
    "LR_y_pred_probability = LR.predict_proba(LR_x_test)[:, 1]\n",
    "\n",
    "# Save the various evaluation metrics to a dictionary.\n",
    "LR_results = scoresToDict(LR_y_test, LR_y_pred, LR_y_pred_probability, model=\"LR\")\n",
    "LR_scores = dict(list(LR_results.items())[:-2])\n",
    "LR_scores = pd.DataFrame([LR_scores], index=[0])\n",
    "\n",
    "\n",
    "# SVM with best parameters\n",
    "# Extract TFIDF feature and split the dataset\n",
    "SVM_x_train, SVM_x_test, SVM_y_train, SVM_y_test = featureExtract_TFIDF(clean_df)\n",
    "\n",
    "SVM = svm.SVC(probability=True)\n",
    "SVM.fit(SVM_x_train, SVM_y_train)\n",
    "\n",
    "# Evaluate the model on the test set\n",
    "SVM_y_pred = SVM.predict(SVM_x_test)\n",
    "SVM_y_pred_probability = SVM.predict_proba(SVM_x_test)[:, 1]\n",
    "\n",
    "# Save the various evaluation metrics to a dictionary.\n",
    "SVM_results = scoresToDict(SVM_y_test, SVM_y_pred, SVM_y_pred_probability, model=\"SVM\")\n",
    "SVM_scores = dict(list(SVM_results.items())[:-2])\n",
    "SVM_scores = pd.DataFrame([SVM_scores], index=[0])\n",
    "\n",
    "# Compile the results\n",
    "results = pd.concat([LR_scores, SVM_scores], axis=0, ignore_index=True)\n",
    "print(\"Results of models.\\n\")\n",
    "print(results.to_string(index=False))"
   ]
  },
  {
   "cell_type": "markdown",
   "id": "6416b3ab-336a-40c6-b238-90d042a17450",
   "metadata": {},
   "source": [
    "## Visualizing the performance of each model using bar graph"
   ]
  },
  {
   "cell_type": "code",
   "execution_count": 54,
   "id": "5e8057af-0f63-47ad-a0c4-87834c65afd7",
   "metadata": {},
   "outputs": [
    {
     "data": {
      "image/png": "[encoded data removed]",
      "text/plain": [
       "<Figure size 1000x400 with 1 Axes>"
      ]
     },
     "metadata": {},
     "output_type": "display_data"
    }
   ],
   "source": [
    "# Define the metrics and data for Logistic Regression and SVM\n",
    "metrics = ['Accuracy', 'Precision', 'Recall', 'F1', 'ROC']\n",
    "LR_data = np.array([LR_results['Accuracy'], LR_results['Precision'], LR_results['Recall'], LR_results['F1'], LR_results['Recall']])\n",
    "SVM_data = np.array([SVM_results['Accuracy'], SVM_results['Precision'], SVM_results['Recall'], SVM_results['F1'], SVM_results['Recall']])\n",
    "\n",
    "# Number of metrics\n",
    "num_metrics = len(metrics)\n",
    "\n",
    "# Set the bar width\n",
    "bar_width = 0.35\n",
    "\n",
    "# Define the positions for the bars\n",
    "positions = np.arange(num_metrics)\n",
    "\n",
    "# Plotting the graph\n",
    "fig, ax = plt.subplots(figsize=(10, 4))\n",
    "\n",
    "# Plotting bars for Logistic Regression\n",
    "ax.bar(positions - bar_width/2, LR_data, width=bar_width, label='Logistic Regression', color='blue', alpha=0.7)\n",
    "\n",
    "# Plotting bars for SVM\n",
    "ax.bar(positions + bar_width/2, SVM_data, width=bar_width, label='SVM', color='orange', alpha=0.7)\n",
    "\n",
    "# Add labels, title, and legend\n",
    "ax.set_xlabel('Metrics')\n",
    "ax.set_ylabel('Values')\n",
    "ax.set_title('Performance of LR and SVM')\n",
    "ax.set_xticks(positions)\n",
    "ax.set_xticklabels(metrics)\n",
    "ax.legend()\n",
    "\n",
    "# Show the plot\n",
    "plt.tight_layout()\n",
    "plt.show()"
   ]
  },
  {
   "cell_type": "markdown",
   "id": "b3355c88-cb2d-4b36-b74f-0e21e54da3fa",
   "metadata": {},
   "source": [
    "## Visualizing the perfomance using a confusion matrix"
   ]
  },
  {
   "cell_type": "markdown",
   "id": "8a4017e4-5497-4a24-8a54-955c95cb269c",
   "metadata": {},
   "source": [
    "#### Models using TF-IDF Confusion Matrix"
   ]
  },
  {
   "cell_type": "code",
   "execution_count": 59,
   "id": "cd5db043-cb14-4d38-ab33-585c14a29b9a",
   "metadata": {},
   "outputs": [
    {
     "data": {
      "image/png": "[encoded data removed]",
      "text/plain": [
       "<Figure size 1200x600 with 4 Axes>"
      ]
     },
     "metadata": {},
     "output_type": "display_data"
    }
   ],
   "source": [
    "# Plotting subplots\n",
    "fig, axes = plt.subplots(1, 2, figsize=(12, 6))\n",
    "\n",
    "# Create the confusion matrix displays for each model\n",
    "LR_display = ConfusionMatrixDisplay(LR_results['CM'], display_labels=['REAL', 'FAKE'])\n",
    "SVM_display = ConfusionMatrixDisplay(SVM_results['CM'], display_labels=['REAL', 'FAKE'])\n",
    "\n",
    "# Plot the Confusion Matrices for Logistic Regression\n",
    "LR_display.plot(ax=axes[0])\n",
    "axes[0].set_title('Logistic Regression')\n",
    "\n",
    "# Plot the Confusion Matrices for SVM\n",
    "SVM_display.plot(ax=axes[1])\n",
    "axes[1].set_title('SVM')\n",
    "\n",
    "# Adjust layout\n",
    "plt.suptitle('Confusion Matrix of models trained on TFIDF', x=0.5, y=1.02)\n",
    "plt.tight_layout()\n",
    "plt.show()"
   ]
  },
  {
   "cell_type": "code",
   "execution_count": 64,
   "id": "f7f8bc5b-ebe7-4198-a347-f10c72c89253",
   "metadata": {},
   "outputs": [
    {
     "data": {
      "image/png": "[encoded data removed]",
      "text/plain": [
       "<Figure size 1200x600 with 2 Axes>"
      ]
     },
     "metadata": {},
     "output_type": "display_data"
    }
   ],
   "source": [
    "# Plotting subplots\n",
    "fig, axes = plt.subplots(1, 2, figsize=(12, 6))\n",
    "\n",
    "# Create the ROC curve plots for Logistic Regression\n",
    "axes[0].set_title('Logistic Regression')\n",
    "axes[0].plot(LR_results['Curve'][0], LR_results['Curve'][1], label=f'ROC curve (AUC = {LR_results[\"ROC\"]:.2f})')\n",
    "\n",
    "# Create the ROC curve plots for SVM\n",
    "axes[1].set_title('SVM')\n",
    "axes[1].plot(SVM_results['Curve'][0], SVM_results['Curve'][1], label=f'ROC curve (AUC = {SVM_results[\"ROC\"]:.2f})')\n",
    "\n",
    "# Adjust layout\n",
    "plt.tight_layout()\n",
    "plt.show()"
   ]
  },
  {
   "cell_type": "markdown",
   "id": "725c2cdd-0e05-478e-9e1f-9d151a258e93",
   "metadata": {},
   "source": [
    "## Saving and loading the trained models"
   ]
  },
  {
   "cell_type": "code",
   "execution_count": 71,
   "id": "0d476eeb-0f0a-47e7-8124-bb6924403521",
   "metadata": {},
   "outputs": [],
   "source": [
    "# Saving our model locally with pkl(pickle) extension\n",
    "LR_filename = 'LR.pkl'\n",
    "pickle.dump(LR, open(LR_filename, 'wb'))\n",
    "SVM_filename = 'SVM.pkl'\n",
    "pickle.dump(SVM, open(SVM_filename, 'wb'))"
   ]
  },
  {
   "cell_type": "code",
   "execution_count": 33,
   "id": "5eadf8f6-65f5-4476-9924-baecdcb79165",
   "metadata": {},
   "outputs": [
    {
     "name": "stdout",
     "output_type": "stream",
     "text": [
      "LR: 92.82%\n",
      "SVM: 92.98%\n"
     ]
    }
   ],
   "source": [
    "# load the model from disk\n",
    "LR = pickle.load(open('LR.pkl', 'rb'))\n",
    "SVM = pickle.load(open('SVM.pkl', 'rb'))\n",
    "\n",
    "# Test our local model\n",
    "\n",
    "# Split the dataset\n",
    "LR_x_train, LR_x_test, LR_y_train, LR_y_test = featureExtract_Ngram(clean_df, n=2)\n",
    "SVM_x_train, SVM_x_test, SVM_y_train, SVM_y_test = featureExtract_TFIDF(clean_df)\n",
    "\n",
    "# Verify the accuracy of each model\n",
    "# LR should be getting 92.82% and SVM should be getting 92.98%\n",
    "LR_result = LR.score(LR_x_test, LR_y_test)\n",
    "SVM_result = SVM.score(SVM_x_test, SVM_y_test)\n",
    "\n",
    "print(\"LR: \" + str(round(LR_result*100,2)) + \"%\")\n",
    "print(\"SVM: \" + str(round(SVM_result*100,2)) + \"%\")"
   ]
  },
  {
   "cell_type": "markdown",
   "id": "7e686472-a520-4e38-b9a7-258f04c74353",
   "metadata": {},
   "source": [
    "Great now that we have a trained model ready to classify fake and real news."
   ]
  },
  {
   "cell_type": "markdown",
   "id": "a25ba3bd-717a-49f7-bf7f-af2603b85ffc",
   "metadata": {},
   "source": [
    "# Conclusion"
   ]
  },
  {
   "cell_type": "markdown",
   "id": "50f32201-3d81-40d1-8330-4f1df559318e",
   "metadata": {},
   "source": [
    "The objective of this prototype is to identify the best parameters for feature extraction methods and models to improve the performance of Logistic Regression and SVM.\n",
    "\n",
    "To identify the best N values for N-Gram, I have trained the logistic regression models on varying N values from 2 to 5 and the model achieved the highest accuracy of 92.5% when N value is 2 on the clean dataset. \n",
    "\n",
    "The Logistic Regression model is fine tuned by finding the best max_iter values and hyper parameters. I experimented max_iter values from 200 to 5000 but see no impact in the performance of the model. Next the hyper parameters are identified using GridSearch with a parameter grid of C: [0.001, 0.01, 0.1, 1, 10, 100], penalty: ['l1', 'l2'], solver: ['lbfgs', 'liblinear'] and the best parameters is 'C': 0.1, 'penalty': 'l2', 'solver': 'liblinear'.\n",
    "\n",
    "With N-Gram where N=2 and using the best parameters the model was able to achieve an accuracy of 92.82% which is a 0.32% improvement from the default settings.\n",
    "However, with the best parameters for TfidfVectorizer and SVM, the SVM model achieved 92.66% which saw a fall of 0.22%.\n",
    "\n",
    "I believe the small gains in performance for Logistic Regression is due to the fact that we have a small amount of dataset, GridSearch may have been able to identify better parameters for the Logistic Regression model if coupled with a richer and robust dataset. However for N-Gram features the results are consistent with our literature review on [40] where models perform best when N is around 2 to 4 and falls off after.\n",
    "\n",
    "For SVM, I believe the parameters GridSearch has identified has overfitted the model as such we see a fall in accuracy hence I have reverted SVM to use back the default settings.\n",
    "\n",
    "With that we were able to achieve highest accuracy of 92.98% using SVM which is an improvement from [43] which uses the same dataset further proving the model.\n"
   ]
  },
  {
   "cell_type": "markdown",
   "id": "4de6e0d9-2550-48f3-bd88-88f8f997df1a",
   "metadata": {},
   "source": [
    "## Reflection"
   ]
  },
  {
   "cell_type": "markdown",
   "id": "76643e46-8eb6-449a-beae-64b78d0e7eaf",
   "metadata": {},
   "source": [
    "Recall that in feature prototype 2 we concluded that we will be using RandomForest with word2vec feature however during fine tuning process I learnt the gridsearch is taking forever (1hour of run time but yet to complete) to load and have decided to remove RandomForest and Word2Vec feature entirely with additional consideration to the fact that it has the lowest starting score as well as a word2vec model that is trained on small dataset which in all probably would not be the most accurate compared to SVM on TFIDF which already has a promising score of 92.98% right off the bat."
   ]
  }
 ],
 "metadata": {
  "kernelspec": {
   "display_name": "Python 3 (ipykernel)",
   "language": "python",
   "name": "python3"
  },
  "language_info": {
   "codemirror_mode": {
    "name": "ipython",
    "version": 3
   },
   "file_extension": ".py",
   "mimetype": "text/x-python",
   "name": "python",
   "nbconvert_exporter": "python",
   "pygments_lexer": "ipython3",
   "version": "3.9.18"
  }
 },
 "nbformat": 4,
 "nbformat_minor": 5
}
